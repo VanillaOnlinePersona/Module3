{
  "cells": [
    {
      "cell_type": "markdown",
      "metadata": {
        "id": "view-in-github",
        "colab_type": "text"
      },
      "source": [
        "<a href=\"https://colab.research.google.com/github/datalover2023/Module_3/blob/main/Excel_processing_Basics_Colab_Module_3_backup_v2.ipynb\" target=\"_parent\"><img src=\"https://colab.research.google.com/assets/colab-badge.svg\" alt=\"Open In Colab\"/></a>"
      ]
    },
    {
      "cell_type": "markdown",
      "source": [
        "Essentials :\n",
        "\n",
        "\n",
        "*   openpyxl package\n",
        "*   xlsxwriter package\n",
        "*   workbook, worksheet, cells, columns, rows, ranges\n",
        "*   write, modify data, copy/paste, append, insert, delete\n",
        "*   navigate, identify locations, calculate ranges\n",
        "*   computations, formulas\n",
        "*   formating: fonts, colors, borders, charts\n"
      ],
      "metadata": {
        "id": "Maa7x8nOtlTE"
      }
    },
    {
      "cell_type": "markdown",
      "metadata": {
        "id": "cFV3kjaG7QDS"
      },
      "source": [
        "# 1.&nbsp;Set up"
      ]
    },
    {
      "cell_type": "markdown",
      "source": [
        "## Libraries"
      ],
      "metadata": {
        "id": "QiIFkW73rCXB"
      }
    },
    {
      "cell_type": "code",
      "execution_count": 1,
      "metadata": {
        "id": "NUL7Y1AA6KoA"
      },
      "outputs": [],
      "source": [
        "# libraries\n",
        "\n",
        "import pandas as pd\n",
        "import numpy as np\n",
        "\n",
        "import os\n",
        "import glob\n",
        "import shutil\n",
        "import sys\n",
        "from pathlib import Path\n",
        "\n",
        "import matplotlib.pyplot as plt\n",
        "import matplotlib.image as mpimg\n",
        "\n",
        "# import libraries and modules for data manipulation\n",
        "\n",
        "# !pip install openpyxl # ==> to install the package\n",
        "from openpyxl.workbook import Workbook\n",
        "from openpyxl import load_workbook\n",
        "from openpyxl.utils import get_column_letter, column_index_from_string"
      ]
    },
    {
      "cell_type": "markdown",
      "source": [
        "More about openpyxl package\n",
        "https://openpyxl.readthedocs.io"
      ],
      "metadata": {
        "id": "wddEevrVg0Ui"
      }
    },
    {
      "cell_type": "code",
      "execution_count": 3,
      "metadata": {
        "id": "BdYXExP0fq4R",
        "colab": {
          "base_uri": "https://localhost:8080/"
        },
        "outputId": "141c3356-71a0-477f-c416-fad642599d45"
      },
      "outputs": [
        {
          "output_type": "stream",
          "name": "stdout",
          "text": [
            "Looking in indexes: https://pypi.org/simple, https://us-python.pkg.dev/colab-wheels/public/simple/\n",
            "Collecting xlsxwriter\n",
            "  Downloading XlsxWriter-3.0.8-py3-none-any.whl (152 kB)\n",
            "\u001b[2K     \u001b[90m━━━━━━━━━━━━━━━━━━━━━━━━━━━━━━━━━━━━━━━\u001b[0m \u001b[32m152.8/152.8 KB\u001b[0m \u001b[31m3.6 MB/s\u001b[0m eta \u001b[36m0:00:00\u001b[0m\n",
            "\u001b[?25hInstalling collected packages: xlsxwriter\n",
            "Successfully installed xlsxwriter-3.0.8\n"
          ]
        }
      ],
      "source": [
        "# import libraries and modules for formating\n",
        "\n",
        "#!pip install xlsxwriter # ==> to install the package\n",
        "\n",
        "import xlsxwriter\n",
        "from xlsxwriter.utility import xl_rowcol_to_cell\n",
        "from xlsxwriter.utility import xl_col_to_name\n",
        "from xlsxwriter.utility import xl_range, xl_range_abs\n",
        "from xlsxwriter.utility import xl_rowcol_to_cell"
      ]
    },
    {
      "cell_type": "markdown",
      "source": [
        "## Drive and cwd"
      ],
      "metadata": {
        "id": "jJ1Zcv5XrdX5"
      }
    },
    {
      "cell_type": "code",
      "source": [
        "# Accessing Google Drive from Google Colab\n",
        "\n",
        "from google.colab import drive \n",
        "drive.mount('/content/gdrive')\n"
      ],
      "metadata": {
        "id": "Kcl5Ser3g7e2",
        "outputId": "5a9d1e50-4f35-4cb8-f212-2200a6fb7bc3",
        "colab": {
          "base_uri": "https://localhost:8080/"
        }
      },
      "execution_count": 4,
      "outputs": [
        {
          "output_type": "stream",
          "name": "stdout",
          "text": [
            "Mounted at /content/gdrive\n"
          ]
        }
      ]
    },
    {
      "cell_type": "code",
      "source": [
        "# get absolute path to current working directory\n",
        "\n",
        "print('The current working directory is : ')\n",
        "os.getcwd() "
      ],
      "metadata": {
        "id": "bvBl0agvhGTg",
        "outputId": "6951c3b2-faf3-4c9b-c5b0-69f6ef7dcf50",
        "colab": {
          "base_uri": "https://localhost:8080/",
          "height": 53
        }
      },
      "execution_count": 5,
      "outputs": [
        {
          "output_type": "stream",
          "name": "stdout",
          "text": [
            "The current working directory is : \n"
          ]
        },
        {
          "output_type": "execute_result",
          "data": {
            "text/plain": [
              "'/content'"
            ],
            "application/vnd.google.colaboratory.intrinsic+json": {
              "type": "string"
            }
          },
          "metadata": {},
          "execution_count": 5
        }
      ]
    },
    {
      "cell_type": "code",
      "execution_count": 6,
      "metadata": {
        "colab": {
          "base_uri": "https://localhost:8080/",
          "height": 36
        },
        "id": "iJ12oISx7h0g",
        "outputId": "3f0912c5-1eff-4775-8f6c-f7344ec2daf7"
      },
      "outputs": [
        {
          "output_type": "execute_result",
          "data": {
            "text/plain": [
              "'/content'"
            ],
            "application/vnd.google.colaboratory.intrinsic+json": {
              "type": "string"
            }
          },
          "metadata": {},
          "execution_count": 6
        }
      ],
      "source": [
        "# current working directory\n",
        "cwd = os.getcwd()\n",
        "cwd"
      ]
    },
    {
      "cell_type": "code",
      "source": [
        "# containing of /content directory\n",
        "os.listdir()"
      ],
      "metadata": {
        "colab": {
          "base_uri": "https://localhost:8080/"
        },
        "id": "r3XF49XQj151",
        "outputId": "86c818b5-3db2-471d-e590-333a43106e87"
      },
      "execution_count": 7,
      "outputs": [
        {
          "output_type": "execute_result",
          "data": {
            "text/plain": [
              "['.config', 'gdrive', 'sample_data']"
            ]
          },
          "metadata": {},
          "execution_count": 7
        }
      ]
    },
    {
      "cell_type": "code",
      "source": [
        "# Uncomment if need to reinitialize the downloads\n",
        "\n",
        "'''\n",
        "\n",
        "png_files=[]\n",
        "for file in os.listdir('.'):\n",
        "    if file.endswith('.png'): # or '.csv' if your'looinkg for csv files\n",
        "            png_files.append(file)\n",
        "            \n",
        "# it will print out excel names present in current directory folder = 'Basics_Python\"\n",
        "print( 'there are', len(png_files), \"png files \")\n",
        "print(png_files[:4])\n",
        "\n",
        "for image in png_files:\n",
        "  os.unlink(image)\n",
        "\n",
        "# containing of /content directory\n",
        "os.listdir()\n",
        "\n",
        "'''"
      ],
      "metadata": {
        "id": "2vqZhDbSjQqr",
        "colab": {
          "base_uri": "https://localhost:8080/",
          "height": 71
        },
        "outputId": "604c3486-6b6a-4ba9-ab7e-5fdf52a4ba1c"
      },
      "execution_count": 8,
      "outputs": [
        {
          "output_type": "execute_result",
          "data": {
            "text/plain": [
              "'\\n\\npng_files=[]\\nfor file in os.listdir(\\'.\\'):\\n    if file.endswith(\\'.png\\'): # or \\'.csv\\' if your\\'looinkg for csv files\\n            png_files.append(file)\\n            \\n# it will print out excel names present in current directory folder = \\'Basics_Python\"\\nprint( \\'there are\\', len(png_files), \"png files \")\\nprint(png_files[:4])\\n\\nfor image in png_files:\\n  os.unlink(image)\\n\\n# containing of /content directory\\nos.listdir()\\n\\n'"
            ],
            "application/vnd.google.colaboratory.intrinsic+json": {
              "type": "string"
            }
          },
          "metadata": {},
          "execution_count": 8
        }
      ]
    },
    {
      "cell_type": "markdown",
      "source": [
        "## Import files"
      ],
      "metadata": {
        "id": "s8Xt-VaDrsKS"
      }
    },
    {
      "cell_type": "code",
      "execution_count": 9,
      "metadata": {
        "id": "2IfEp4rYfq4U"
      },
      "outputs": [],
      "source": [
        "# import files\n",
        "\n",
        "# import files into google Colab\n",
        "from google.colab import files\n"
      ]
    },
    {
      "cell_type": "code",
      "execution_count": 10,
      "metadata": {
        "id": "iFlj4MfUfq4W",
        "outputId": "6901f4ab-e688-4d30-e88c-2e0fad9714a2",
        "colab": {
          "base_uri": "https://localhost:8080/",
          "height": 1000
        }
      },
      "outputs": [
        {
          "output_type": "display_data",
          "data": {
            "text/plain": [
              "<IPython.core.display.HTML object>"
            ],
            "text/html": [
              "\n",
              "     <input type=\"file\" id=\"files-d92cd0e8-d2a4-4f93-8997-2010cdfdb9e2\" name=\"files[]\" multiple disabled\n",
              "        style=\"border:none\" />\n",
              "     <output id=\"result-d92cd0e8-d2a4-4f93-8997-2010cdfdb9e2\">\n",
              "      Upload widget is only available when the cell has been executed in the\n",
              "      current browser session. Please rerun this cell to enable.\n",
              "      </output>\n",
              "      <script>// Copyright 2017 Google LLC\n",
              "//\n",
              "// Licensed under the Apache License, Version 2.0 (the \"License\");\n",
              "// you may not use this file except in compliance with the License.\n",
              "// You may obtain a copy of the License at\n",
              "//\n",
              "//      http://www.apache.org/licenses/LICENSE-2.0\n",
              "//\n",
              "// Unless required by applicable law or agreed to in writing, software\n",
              "// distributed under the License is distributed on an \"AS IS\" BASIS,\n",
              "// WITHOUT WARRANTIES OR CONDITIONS OF ANY KIND, either express or implied.\n",
              "// See the License for the specific language governing permissions and\n",
              "// limitations under the License.\n",
              "\n",
              "/**\n",
              " * @fileoverview Helpers for google.colab Python module.\n",
              " */\n",
              "(function(scope) {\n",
              "function span(text, styleAttributes = {}) {\n",
              "  const element = document.createElement('span');\n",
              "  element.textContent = text;\n",
              "  for (const key of Object.keys(styleAttributes)) {\n",
              "    element.style[key] = styleAttributes[key];\n",
              "  }\n",
              "  return element;\n",
              "}\n",
              "\n",
              "// Max number of bytes which will be uploaded at a time.\n",
              "const MAX_PAYLOAD_SIZE = 100 * 1024;\n",
              "\n",
              "function _uploadFiles(inputId, outputId) {\n",
              "  const steps = uploadFilesStep(inputId, outputId);\n",
              "  const outputElement = document.getElementById(outputId);\n",
              "  // Cache steps on the outputElement to make it available for the next call\n",
              "  // to uploadFilesContinue from Python.\n",
              "  outputElement.steps = steps;\n",
              "\n",
              "  return _uploadFilesContinue(outputId);\n",
              "}\n",
              "\n",
              "// This is roughly an async generator (not supported in the browser yet),\n",
              "// where there are multiple asynchronous steps and the Python side is going\n",
              "// to poll for completion of each step.\n",
              "// This uses a Promise to block the python side on completion of each step,\n",
              "// then passes the result of the previous step as the input to the next step.\n",
              "function _uploadFilesContinue(outputId) {\n",
              "  const outputElement = document.getElementById(outputId);\n",
              "  const steps = outputElement.steps;\n",
              "\n",
              "  const next = steps.next(outputElement.lastPromiseValue);\n",
              "  return Promise.resolve(next.value.promise).then((value) => {\n",
              "    // Cache the last promise value to make it available to the next\n",
              "    // step of the generator.\n",
              "    outputElement.lastPromiseValue = value;\n",
              "    return next.value.response;\n",
              "  });\n",
              "}\n",
              "\n",
              "/**\n",
              " * Generator function which is called between each async step of the upload\n",
              " * process.\n",
              " * @param {string} inputId Element ID of the input file picker element.\n",
              " * @param {string} outputId Element ID of the output display.\n",
              " * @return {!Iterable<!Object>} Iterable of next steps.\n",
              " */\n",
              "function* uploadFilesStep(inputId, outputId) {\n",
              "  const inputElement = document.getElementById(inputId);\n",
              "  inputElement.disabled = false;\n",
              "\n",
              "  const outputElement = document.getElementById(outputId);\n",
              "  outputElement.innerHTML = '';\n",
              "\n",
              "  const pickedPromise = new Promise((resolve) => {\n",
              "    inputElement.addEventListener('change', (e) => {\n",
              "      resolve(e.target.files);\n",
              "    });\n",
              "  });\n",
              "\n",
              "  const cancel = document.createElement('button');\n",
              "  inputElement.parentElement.appendChild(cancel);\n",
              "  cancel.textContent = 'Cancel upload';\n",
              "  const cancelPromise = new Promise((resolve) => {\n",
              "    cancel.onclick = () => {\n",
              "      resolve(null);\n",
              "    };\n",
              "  });\n",
              "\n",
              "  // Wait for the user to pick the files.\n",
              "  const files = yield {\n",
              "    promise: Promise.race([pickedPromise, cancelPromise]),\n",
              "    response: {\n",
              "      action: 'starting',\n",
              "    }\n",
              "  };\n",
              "\n",
              "  cancel.remove();\n",
              "\n",
              "  // Disable the input element since further picks are not allowed.\n",
              "  inputElement.disabled = true;\n",
              "\n",
              "  if (!files) {\n",
              "    return {\n",
              "      response: {\n",
              "        action: 'complete',\n",
              "      }\n",
              "    };\n",
              "  }\n",
              "\n",
              "  for (const file of files) {\n",
              "    const li = document.createElement('li');\n",
              "    li.append(span(file.name, {fontWeight: 'bold'}));\n",
              "    li.append(span(\n",
              "        `(${file.type || 'n/a'}) - ${file.size} bytes, ` +\n",
              "        `last modified: ${\n",
              "            file.lastModifiedDate ? file.lastModifiedDate.toLocaleDateString() :\n",
              "                                    'n/a'} - `));\n",
              "    const percent = span('0% done');\n",
              "    li.appendChild(percent);\n",
              "\n",
              "    outputElement.appendChild(li);\n",
              "\n",
              "    const fileDataPromise = new Promise((resolve) => {\n",
              "      const reader = new FileReader();\n",
              "      reader.onload = (e) => {\n",
              "        resolve(e.target.result);\n",
              "      };\n",
              "      reader.readAsArrayBuffer(file);\n",
              "    });\n",
              "    // Wait for the data to be ready.\n",
              "    let fileData = yield {\n",
              "      promise: fileDataPromise,\n",
              "      response: {\n",
              "        action: 'continue',\n",
              "      }\n",
              "    };\n",
              "\n",
              "    // Use a chunked sending to avoid message size limits. See b/62115660.\n",
              "    let position = 0;\n",
              "    do {\n",
              "      const length = Math.min(fileData.byteLength - position, MAX_PAYLOAD_SIZE);\n",
              "      const chunk = new Uint8Array(fileData, position, length);\n",
              "      position += length;\n",
              "\n",
              "      const base64 = btoa(String.fromCharCode.apply(null, chunk));\n",
              "      yield {\n",
              "        response: {\n",
              "          action: 'append',\n",
              "          file: file.name,\n",
              "          data: base64,\n",
              "        },\n",
              "      };\n",
              "\n",
              "      let percentDone = fileData.byteLength === 0 ?\n",
              "          100 :\n",
              "          Math.round((position / fileData.byteLength) * 100);\n",
              "      percent.textContent = `${percentDone}% done`;\n",
              "\n",
              "    } while (position < fileData.byteLength);\n",
              "  }\n",
              "\n",
              "  // All done.\n",
              "  yield {\n",
              "    response: {\n",
              "      action: 'complete',\n",
              "    }\n",
              "  };\n",
              "}\n",
              "\n",
              "scope.google = scope.google || {};\n",
              "scope.google.colab = scope.google.colab || {};\n",
              "scope.google.colab._files = {\n",
              "  _uploadFiles,\n",
              "  _uploadFilesContinue,\n",
              "};\n",
              "})(self);\n",
              "</script> "
            ]
          },
          "metadata": {}
        },
        {
          "output_type": "stream",
          "name": "stdout",
          "text": [
            "Saving img_1.PNG to img_1.PNG\n",
            "Saving img_2.PNG to img_2.PNG\n",
            "Saving img_3.PNG to img_3.PNG\n",
            "Saving img_4.PNG to img_4.PNG\n",
            "Saving img_5.PNG to img_5.PNG\n",
            "Saving img_6.PNG to img_6.PNG\n",
            "Saving img_7.PNG to img_7.PNG\n",
            "Saving img_8.PNG to img_8.PNG\n",
            "Saving img_9.PNG to img_9.PNG\n",
            "Saving img_10.PNG to img_10.PNG\n",
            "Saving img_11.PNG to img_11.PNG\n",
            "Saving img_12.PNG to img_12.PNG\n",
            "Saving img_13.PNG to img_13.PNG\n",
            "Saving img_14.PNG to img_14.PNG\n",
            "Saving img_15.PNG to img_15.PNG\n",
            "Saving img_16.PNG to img_16.PNG\n",
            "Saving img_17.PNG to img_17.PNG\n",
            "Saving img_18.PNG to img_18.PNG\n",
            "Saving img_19.PNG to img_19.PNG\n",
            "Saving img_20.PNG to img_20.PNG\n",
            "Saving img_21.PNG to img_21.PNG\n",
            "Saving img_22.PNG to img_22.PNG\n",
            "Saving img_23.PNG to img_23.PNG\n",
            "Saving img_24.PNG to img_24.PNG\n",
            "Saving img_25.PNG to img_25.PNG\n",
            "Saving img_26.PNG to img_26.PNG\n",
            "Saving img_27.PNG to img_27.PNG\n",
            "Saving img_28.PNG to img_28.PNG\n",
            "Saving img_29.PNG to img_29.PNG\n",
            "Saving img_30.PNG to img_30.PNG\n",
            "Saving img_31.PNG to img_31.PNG\n",
            "Saving img_32.PNG to img_32.PNG\n",
            "Saving img_33.PNG to img_33.PNG\n",
            "Saving img_34.PNG to img_34.PNG\n",
            "Saving img_35.PNG to img_35.PNG\n",
            "Saving img_36.PNG to img_36.PNG\n",
            "Saving img_37.PNG to img_37.PNG\n",
            "Saving img_38.PNG to img_38.PNG\n",
            "Saving img_39.PNG to img_39.PNG\n"
          ]
        }
      ],
      "source": [
        "# upload from your local : images .png from your downloads\n",
        "uploaded = files.upload()\n"
      ]
    },
    {
      "cell_type": "code",
      "source": [
        "# containing of /content directory, see if images were uploaded\n",
        "os.listdir()"
      ],
      "metadata": {
        "colab": {
          "base_uri": "https://localhost:8080/"
        },
        "id": "tLodBnWzkOgT",
        "outputId": "4c99a263-bcba-4c82-8945-19fe10a268b9"
      },
      "execution_count": 19,
      "outputs": [
        {
          "output_type": "execute_result",
          "data": {
            "text/plain": [
              "['.config',\n",
              " 'img_24.PNG',\n",
              " 'img_28.PNG',\n",
              " 'img_23.PNG',\n",
              " 'img_18.PNG',\n",
              " 'img_15.PNG',\n",
              " 'img_25.PNG',\n",
              " 'img_16.PNG',\n",
              " 'img_1.PNG',\n",
              " 'img_34.PNG',\n",
              " 'gdrive',\n",
              " 'img_20.PNG',\n",
              " 'img_8.PNG',\n",
              " 'img_13.PNG',\n",
              " 'img_29.PNG',\n",
              " 'img_6.PNG',\n",
              " 'img_2.PNG',\n",
              " 'img_12.PNG',\n",
              " 'img_37.PNG',\n",
              " 'img_4.PNG',\n",
              " 'img_35.PNG',\n",
              " 'img_27.PNG',\n",
              " 'img_39.PNG',\n",
              " 'img_3.PNG',\n",
              " 'img_7.PNG',\n",
              " 'img_31.PNG',\n",
              " 'img_36.PNG',\n",
              " 'img_26.PNG',\n",
              " 'img_32.PNG',\n",
              " 'img_9.PNG',\n",
              " 'img_11.PNG',\n",
              " 'img_33.PNG',\n",
              " 'img_30.PNG',\n",
              " 'img_38.PNG',\n",
              " 'img_10.PNG',\n",
              " 'img_21.PNG',\n",
              " 'img_17.PNG',\n",
              " 'img_19.PNG',\n",
              " 'img_5.PNG',\n",
              " 'img_22.PNG',\n",
              " 'img_14.PNG',\n",
              " 'sample_data']"
            ]
          },
          "metadata": {},
          "execution_count": 19
        }
      ]
    },
    {
      "cell_type": "markdown",
      "source": [
        "## Module_3 folder"
      ],
      "metadata": {
        "id": "n699Q8mSsUsV"
      }
    },
    {
      "cell_type": "code",
      "source": [
        "# uncoment if you want to reinitilize Module_3\n",
        "\n",
        "# delete folder Model_3 with all containing\n",
        "# shutil.rmtree('/content/gdrive/MyDrive/Module_3')"
      ],
      "metadata": {
        "id": "TwIAEQxdh6gD"
      },
      "execution_count": 12,
      "outputs": []
    },
    {
      "cell_type": "code",
      "source": [
        "# create a floder Module_3 where you'll store files\n",
        "\n",
        "# create a new folder called \"Module_3\"\n",
        "\n",
        "# First: \n",
        "# write the path to the \"Module_3\" sub_directory\n",
        "folder = cwd + '/' + 'gdrive/MyDrive/Module_3/images' # == > /content/gdrive/MyDrive/Module_3/images\n",
        "print(folder)\n",
        "\n",
        "# Second:\n",
        "# create the folder at the indicated path\n",
        "os.makedirs(folder) # create an empty folder "
      ],
      "metadata": {
        "colab": {
          "base_uri": "https://localhost:8080/"
        },
        "id": "w3IUQHRbijto",
        "outputId": "75cf07ca-f3e1-4829-aafe-2323c7edf5a7"
      },
      "execution_count": 13,
      "outputs": [
        {
          "output_type": "stream",
          "name": "stdout",
          "text": [
            "/content/gdrive/MyDrive/Module_3/images\n"
          ]
        }
      ]
    },
    {
      "cell_type": "code",
      "source": [
        "# check files in Module_3 directory\n",
        "os.listdir('/content/gdrive/MyDrive/Module_3')"
      ],
      "metadata": {
        "colab": {
          "base_uri": "https://localhost:8080/"
        },
        "id": "ZbZYbPB3lQY8",
        "outputId": "c0c77043-81f3-44ef-9886-79380d3ac58e"
      },
      "execution_count": 14,
      "outputs": [
        {
          "output_type": "execute_result",
          "data": {
            "text/plain": [
              "['images']"
            ]
          },
          "metadata": {},
          "execution_count": 14
        }
      ]
    },
    {
      "cell_type": "code",
      "source": [
        "# containing of folder images\n",
        "os.listdir('/content/gdrive/MyDrive/Module_3/images')"
      ],
      "metadata": {
        "colab": {
          "base_uri": "https://localhost:8080/"
        },
        "id": "39YypMQ8ygtc",
        "outputId": "d9a1d14a-f63a-46ad-879b-ece4e335b802"
      },
      "execution_count": 15,
      "outputs": [
        {
          "output_type": "execute_result",
          "data": {
            "text/plain": [
              "[]"
            ]
          },
          "metadata": {},
          "execution_count": 15
        }
      ]
    },
    {
      "cell_type": "code",
      "source": [
        "# select all .png and move them to folder Module_3/Images\n",
        "\n",
        "# searchin for all files with extention .png\n",
        "# and store the into a list png_files\n",
        "\n",
        "png_files=[]\n",
        "for file in os.listdir():\n",
        "    if file.endswith('.PNG'): # or '.csv' if your'looinkg for csv files\n",
        "            png_files.append(file)\n",
        "            \n",
        "# it will print out excel names present in current directory folder = 'Basics_Python\"\n",
        "print( 'there are', len(png_files), \"png files \")\n",
        "print(png_files[:4])\n"
      ],
      "metadata": {
        "colab": {
          "base_uri": "https://localhost:8080/"
        },
        "id": "heVbLKgai-QT",
        "outputId": "8b9db91f-0b11-4e40-ef12-44c67a289776"
      },
      "execution_count": 20,
      "outputs": [
        {
          "output_type": "stream",
          "name": "stdout",
          "text": [
            "there are 39 png files \n",
            "['img_24.PNG', 'img_28.PNG', 'img_23.PNG', 'img_18.PNG']\n"
          ]
        }
      ]
    },
    {
      "cell_type": "code",
      "source": [
        "# move all images into folder MOdule_3/Images\n",
        "\n",
        "folder = '/content/gdrive/MyDrive/Module_3/images'\n",
        "\n",
        "for image in png_files:\n",
        "  shutil.move(image, # file/folder to cut\n",
        "              folder) # folder where to move "
      ],
      "metadata": {
        "id": "VAI6CH73jzva"
      },
      "execution_count": 21,
      "outputs": []
    },
    {
      "cell_type": "code",
      "source": [
        "# checl if images were moved from cwd\n",
        "os.listdir()"
      ],
      "metadata": {
        "colab": {
          "base_uri": "https://localhost:8080/"
        },
        "id": "1STJwUMClGlg",
        "outputId": "37056ae7-2588-4e5d-862c-ab9e80080de7"
      },
      "execution_count": 22,
      "outputs": [
        {
          "output_type": "execute_result",
          "data": {
            "text/plain": [
              "['.config', 'gdrive', 'sample_data']"
            ]
          },
          "metadata": {},
          "execution_count": 22
        }
      ]
    },
    {
      "cell_type": "code",
      "source": [
        "# check files in Module_3\n",
        "os.listdir('gdrive/MyDrive/Module_3')"
      ],
      "metadata": {
        "colab": {
          "base_uri": "https://localhost:8080/"
        },
        "id": "0WjJiIwEkoBn",
        "outputId": "d38ac5f5-9ee7-46f2-cfb5-6bbc894c5d91"
      },
      "execution_count": 23,
      "outputs": [
        {
          "output_type": "execute_result",
          "data": {
            "text/plain": [
              "['images']"
            ]
          },
          "metadata": {},
          "execution_count": 23
        }
      ]
    },
    {
      "cell_type": "code",
      "source": [
        "# check files present in Module_3/Images, all the images were transfered to Module_3/images\n",
        "os.listdir('/content/gdrive/MyDrive/Module_3/images')"
      ],
      "metadata": {
        "colab": {
          "base_uri": "https://localhost:8080/"
        },
        "id": "b6w8jvVSktOc",
        "outputId": "f7cfca9d-11f6-4b72-f7f1-39836949da96"
      },
      "execution_count": 24,
      "outputs": [
        {
          "output_type": "execute_result",
          "data": {
            "text/plain": [
              "['img_24.PNG',\n",
              " 'img_28.PNG',\n",
              " 'img_23.PNG',\n",
              " 'img_18.PNG',\n",
              " 'img_15.PNG',\n",
              " 'img_25.PNG',\n",
              " 'img_16.PNG',\n",
              " 'img_1.PNG',\n",
              " 'img_34.PNG',\n",
              " 'img_20.PNG',\n",
              " 'img_8.PNG',\n",
              " 'img_13.PNG',\n",
              " 'img_29.PNG',\n",
              " 'img_6.PNG',\n",
              " 'img_2.PNG',\n",
              " 'img_12.PNG',\n",
              " 'img_37.PNG',\n",
              " 'img_4.PNG',\n",
              " 'img_35.PNG',\n",
              " 'img_27.PNG',\n",
              " 'img_39.PNG',\n",
              " 'img_3.PNG',\n",
              " 'img_7.PNG',\n",
              " 'img_31.PNG',\n",
              " 'img_36.PNG',\n",
              " 'img_26.PNG',\n",
              " 'img_32.PNG',\n",
              " 'img_9.PNG',\n",
              " 'img_11.PNG',\n",
              " 'img_33.PNG',\n",
              " 'img_30.PNG',\n",
              " 'img_38.PNG',\n",
              " 'img_10.PNG',\n",
              " 'img_21.PNG',\n",
              " 'img_17.PNG',\n",
              " 'img_19.PNG',\n",
              " 'img_5.PNG',\n",
              " 'img_22.PNG',\n",
              " 'img_14.PNG']"
            ]
          },
          "metadata": {},
          "execution_count": 24
        }
      ]
    },
    {
      "cell_type": "code",
      "source": [
        "# change cwd to Module_3\n",
        "os.chdir('gdrive/MyDrive/Module_3')\n",
        "# check the new current working directory now\n",
        "cwd = os.getcwd()\n",
        "cwd # folder MOdule_3 will be from now on our cwd"
      ],
      "metadata": {
        "colab": {
          "base_uri": "https://localhost:8080/",
          "height": 36
        },
        "id": "L0rqHbBNk9ZY",
        "outputId": "60d2c255-a9d5-4eb2-c84e-503f70b47198"
      },
      "execution_count": 25,
      "outputs": [
        {
          "output_type": "execute_result",
          "data": {
            "text/plain": [
              "'/content/gdrive/MyDrive/Module_3'"
            ],
            "application/vnd.google.colaboratory.intrinsic+json": {
              "type": "string"
            }
          },
          "metadata": {},
          "execution_count": 25
        }
      ]
    },
    {
      "cell_type": "code",
      "source": [
        "# upload from your local : Groceries.xlsx\n",
        "uploaded = files.upload()"
      ],
      "metadata": {
        "colab": {
          "base_uri": "https://localhost:8080/",
          "height": 73
        },
        "id": "QIQ_P6qml2lK",
        "outputId": "7b3452fd-c454-4d2a-c3fb-a124950e8505"
      },
      "execution_count": 26,
      "outputs": [
        {
          "output_type": "display_data",
          "data": {
            "text/plain": [
              "<IPython.core.display.HTML object>"
            ],
            "text/html": [
              "\n",
              "     <input type=\"file\" id=\"files-9cb34635-ca47-4b5f-a52a-ff6822f8d7c2\" name=\"files[]\" multiple disabled\n",
              "        style=\"border:none\" />\n",
              "     <output id=\"result-9cb34635-ca47-4b5f-a52a-ff6822f8d7c2\">\n",
              "      Upload widget is only available when the cell has been executed in the\n",
              "      current browser session. Please rerun this cell to enable.\n",
              "      </output>\n",
              "      <script>// Copyright 2017 Google LLC\n",
              "//\n",
              "// Licensed under the Apache License, Version 2.0 (the \"License\");\n",
              "// you may not use this file except in compliance with the License.\n",
              "// You may obtain a copy of the License at\n",
              "//\n",
              "//      http://www.apache.org/licenses/LICENSE-2.0\n",
              "//\n",
              "// Unless required by applicable law or agreed to in writing, software\n",
              "// distributed under the License is distributed on an \"AS IS\" BASIS,\n",
              "// WITHOUT WARRANTIES OR CONDITIONS OF ANY KIND, either express or implied.\n",
              "// See the License for the specific language governing permissions and\n",
              "// limitations under the License.\n",
              "\n",
              "/**\n",
              " * @fileoverview Helpers for google.colab Python module.\n",
              " */\n",
              "(function(scope) {\n",
              "function span(text, styleAttributes = {}) {\n",
              "  const element = document.createElement('span');\n",
              "  element.textContent = text;\n",
              "  for (const key of Object.keys(styleAttributes)) {\n",
              "    element.style[key] = styleAttributes[key];\n",
              "  }\n",
              "  return element;\n",
              "}\n",
              "\n",
              "// Max number of bytes which will be uploaded at a time.\n",
              "const MAX_PAYLOAD_SIZE = 100 * 1024;\n",
              "\n",
              "function _uploadFiles(inputId, outputId) {\n",
              "  const steps = uploadFilesStep(inputId, outputId);\n",
              "  const outputElement = document.getElementById(outputId);\n",
              "  // Cache steps on the outputElement to make it available for the next call\n",
              "  // to uploadFilesContinue from Python.\n",
              "  outputElement.steps = steps;\n",
              "\n",
              "  return _uploadFilesContinue(outputId);\n",
              "}\n",
              "\n",
              "// This is roughly an async generator (not supported in the browser yet),\n",
              "// where there are multiple asynchronous steps and the Python side is going\n",
              "// to poll for completion of each step.\n",
              "// This uses a Promise to block the python side on completion of each step,\n",
              "// then passes the result of the previous step as the input to the next step.\n",
              "function _uploadFilesContinue(outputId) {\n",
              "  const outputElement = document.getElementById(outputId);\n",
              "  const steps = outputElement.steps;\n",
              "\n",
              "  const next = steps.next(outputElement.lastPromiseValue);\n",
              "  return Promise.resolve(next.value.promise).then((value) => {\n",
              "    // Cache the last promise value to make it available to the next\n",
              "    // step of the generator.\n",
              "    outputElement.lastPromiseValue = value;\n",
              "    return next.value.response;\n",
              "  });\n",
              "}\n",
              "\n",
              "/**\n",
              " * Generator function which is called between each async step of the upload\n",
              " * process.\n",
              " * @param {string} inputId Element ID of the input file picker element.\n",
              " * @param {string} outputId Element ID of the output display.\n",
              " * @return {!Iterable<!Object>} Iterable of next steps.\n",
              " */\n",
              "function* uploadFilesStep(inputId, outputId) {\n",
              "  const inputElement = document.getElementById(inputId);\n",
              "  inputElement.disabled = false;\n",
              "\n",
              "  const outputElement = document.getElementById(outputId);\n",
              "  outputElement.innerHTML = '';\n",
              "\n",
              "  const pickedPromise = new Promise((resolve) => {\n",
              "    inputElement.addEventListener('change', (e) => {\n",
              "      resolve(e.target.files);\n",
              "    });\n",
              "  });\n",
              "\n",
              "  const cancel = document.createElement('button');\n",
              "  inputElement.parentElement.appendChild(cancel);\n",
              "  cancel.textContent = 'Cancel upload';\n",
              "  const cancelPromise = new Promise((resolve) => {\n",
              "    cancel.onclick = () => {\n",
              "      resolve(null);\n",
              "    };\n",
              "  });\n",
              "\n",
              "  // Wait for the user to pick the files.\n",
              "  const files = yield {\n",
              "    promise: Promise.race([pickedPromise, cancelPromise]),\n",
              "    response: {\n",
              "      action: 'starting',\n",
              "    }\n",
              "  };\n",
              "\n",
              "  cancel.remove();\n",
              "\n",
              "  // Disable the input element since further picks are not allowed.\n",
              "  inputElement.disabled = true;\n",
              "\n",
              "  if (!files) {\n",
              "    return {\n",
              "      response: {\n",
              "        action: 'complete',\n",
              "      }\n",
              "    };\n",
              "  }\n",
              "\n",
              "  for (const file of files) {\n",
              "    const li = document.createElement('li');\n",
              "    li.append(span(file.name, {fontWeight: 'bold'}));\n",
              "    li.append(span(\n",
              "        `(${file.type || 'n/a'}) - ${file.size} bytes, ` +\n",
              "        `last modified: ${\n",
              "            file.lastModifiedDate ? file.lastModifiedDate.toLocaleDateString() :\n",
              "                                    'n/a'} - `));\n",
              "    const percent = span('0% done');\n",
              "    li.appendChild(percent);\n",
              "\n",
              "    outputElement.appendChild(li);\n",
              "\n",
              "    const fileDataPromise = new Promise((resolve) => {\n",
              "      const reader = new FileReader();\n",
              "      reader.onload = (e) => {\n",
              "        resolve(e.target.result);\n",
              "      };\n",
              "      reader.readAsArrayBuffer(file);\n",
              "    });\n",
              "    // Wait for the data to be ready.\n",
              "    let fileData = yield {\n",
              "      promise: fileDataPromise,\n",
              "      response: {\n",
              "        action: 'continue',\n",
              "      }\n",
              "    };\n",
              "\n",
              "    // Use a chunked sending to avoid message size limits. See b/62115660.\n",
              "    let position = 0;\n",
              "    do {\n",
              "      const length = Math.min(fileData.byteLength - position, MAX_PAYLOAD_SIZE);\n",
              "      const chunk = new Uint8Array(fileData, position, length);\n",
              "      position += length;\n",
              "\n",
              "      const base64 = btoa(String.fromCharCode.apply(null, chunk));\n",
              "      yield {\n",
              "        response: {\n",
              "          action: 'append',\n",
              "          file: file.name,\n",
              "          data: base64,\n",
              "        },\n",
              "      };\n",
              "\n",
              "      let percentDone = fileData.byteLength === 0 ?\n",
              "          100 :\n",
              "          Math.round((position / fileData.byteLength) * 100);\n",
              "      percent.textContent = `${percentDone}% done`;\n",
              "\n",
              "    } while (position < fileData.byteLength);\n",
              "  }\n",
              "\n",
              "  // All done.\n",
              "  yield {\n",
              "    response: {\n",
              "      action: 'complete',\n",
              "    }\n",
              "  };\n",
              "}\n",
              "\n",
              "scope.google = scope.google || {};\n",
              "scope.google.colab = scope.google.colab || {};\n",
              "scope.google.colab._files = {\n",
              "  _uploadFiles,\n",
              "  _uploadFilesContinue,\n",
              "};\n",
              "})(self);\n",
              "</script> "
            ]
          },
          "metadata": {}
        },
        {
          "output_type": "stream",
          "name": "stdout",
          "text": [
            "Saving Groceries.xlsx to Groceries.xlsx\n"
          ]
        }
      ]
    },
    {
      "cell_type": "code",
      "source": [
        "# check if Groceries.xlsx is on cwd ==> Module_3\n",
        "os.listdir()"
      ],
      "metadata": {
        "colab": {
          "base_uri": "https://localhost:8080/"
        },
        "id": "Ez8XDQENm_pm",
        "outputId": "9cde9246-4ff4-470e-ab4b-ece53358063c"
      },
      "execution_count": 27,
      "outputs": [
        {
          "output_type": "execute_result",
          "data": {
            "text/plain": [
              "['images', 'Groceries.xlsx']"
            ]
          },
          "metadata": {},
          "execution_count": 27
        }
      ]
    },
    {
      "cell_type": "code",
      "source": [
        "# check the notebook in your Colab Notebooks\n",
        "\n",
        "os.listdir('/content/gdrive/MyDrive/Colab Notebooks')"
      ],
      "metadata": {
        "colab": {
          "base_uri": "https://localhost:8080/"
        },
        "id": "lfFYNRU8nPym",
        "outputId": "79cfdaf6-b702-4d13-c4be-62ce3d530ef1"
      },
      "execution_count": 28,
      "outputs": [
        {
          "output_type": "execute_result",
          "data": {
            "text/plain": [
              "['Copy_Files_Manipulation_Collab-Sparrow.ipynb',\n",
              " 'Files_Manipulation_Module_2 (2).ipynb',\n",
              " 'test_Files_Manipulation_Module_2.ipynb',\n",
              " 'Copy of test_Files_Manipulation_Module_2.ipynb',\n",
              " 'Files_Manipulation_Module_2 (1).ipynb',\n",
              " 'Files_Manipulation_Module_2.ipynb',\n",
              " 'Files_Manipulation_Module_2_Cohort.ipynb',\n",
              " 'Files_Manipulation_Module_2_Practice.ipynb',\n",
              " 'Excel_processing_Basics_Colab.ipynb',\n",
              " 'Excel_processing_Basics_Colab_Module_3_backup.ipynb',\n",
              " 'Excel_processing_Basics_Colab_Module_3_backup_v1 (1).ipynb',\n",
              " 'Test (1).ipynb',\n",
              " 'Test.ipynb',\n",
              " 'Python_Basics_Module_1_test.ipynb',\n",
              " 'Excel_processing_Basics_Colab_Module_3_backup_v1.ipynb',\n",
              " 'Excel_processing_Basics_Colab_Module_3_backup_v2.ipynb']"
            ]
          },
          "metadata": {},
          "execution_count": 28
        }
      ]
    },
    {
      "cell_type": "code",
      "source": [
        "# copy notebook \"Excel_processing_Basics_Colab_Module_3\" in your cwd MOdule_3\n",
        "\n",
        "# copy all images into folder MOdule_3/Images\n",
        "\n",
        "folder = '/content/gdrive/MyDrive/Module_3' # path to were to move\n",
        "notebook = '/content/gdrive/MyDrive/Colab Notebooks/Excel_processing_Basics_Colab_Module_3_backup_v2.ipynb' # path from the where to get the notebook\n",
        "\n",
        "# copy (or move) from google colab to module_3, if you like to move ==> .move\n",
        "shutil.copy(notebook, # file/folder to cut/copy\n",
        "            folder) # folder where to move"
      ],
      "metadata": {
        "id": "e0OVJOpfoOvl",
        "colab": {
          "base_uri": "https://localhost:8080/",
          "height": 36
        },
        "outputId": "7d4e6ef2-c36f-4a74-a5fb-08f36bfb1212"
      },
      "execution_count": 33,
      "outputs": [
        {
          "output_type": "execute_result",
          "data": {
            "text/plain": [
              "'/content/gdrive/MyDrive/Module_3/Excel_processing_Basics_Colab_Module_3_backup_v2.ipynb'"
            ],
            "application/vnd.google.colaboratory.intrinsic+json": {
              "type": "string"
            }
          },
          "metadata": {},
          "execution_count": 33
        }
      ]
    },
    {
      "cell_type": "code",
      "source": [
        "# check again your Colab Noteboks\n",
        "# if you used .move ==> than you shouldn't see your notebook in the Colab Nobooks folder\n",
        "os.listdir('/content/gdrive/MyDrive/Colab Notebooks')"
      ],
      "metadata": {
        "id": "wZE5vRlspJKA",
        "colab": {
          "base_uri": "https://localhost:8080/"
        },
        "outputId": "e1cb6452-a64a-42f1-c982-2da4d3c83292"
      },
      "execution_count": 34,
      "outputs": [
        {
          "output_type": "execute_result",
          "data": {
            "text/plain": [
              "['Copy_Files_Manipulation_Collab-Sparrow.ipynb',\n",
              " 'Files_Manipulation_Module_2 (2).ipynb',\n",
              " 'test_Files_Manipulation_Module_2.ipynb',\n",
              " 'Copy of test_Files_Manipulation_Module_2.ipynb',\n",
              " 'Files_Manipulation_Module_2 (1).ipynb',\n",
              " 'Files_Manipulation_Module_2.ipynb',\n",
              " 'Files_Manipulation_Module_2_Cohort.ipynb',\n",
              " 'Files_Manipulation_Module_2_Practice.ipynb',\n",
              " 'Excel_processing_Basics_Colab.ipynb',\n",
              " 'Excel_processing_Basics_Colab_Module_3_backup.ipynb',\n",
              " 'Excel_processing_Basics_Colab_Module_3_backup_v1 (1).ipynb',\n",
              " 'Test (1).ipynb',\n",
              " 'Test.ipynb',\n",
              " 'Python_Basics_Module_1_test.ipynb',\n",
              " 'Excel_processing_Basics_Colab_Module_3_backup_v1.ipynb',\n",
              " 'Excel_processing_Basics_Colab_Module_3_backup_v2.ipynb']"
            ]
          },
          "metadata": {},
          "execution_count": 34
        }
      ]
    },
    {
      "cell_type": "code",
      "source": [
        "# check if notebook is in cwd\n",
        "\n",
        "# now our folder contains:\n",
        "os.listdir()"
      ],
      "metadata": {
        "id": "5yb88FzepP-9",
        "colab": {
          "base_uri": "https://localhost:8080/"
        },
        "outputId": "1ffbf001-f02c-41f4-b128-61776a22cc93"
      },
      "execution_count": 35,
      "outputs": [
        {
          "output_type": "execute_result",
          "data": {
            "text/plain": [
              "['images',\n",
              " 'Groceries.xlsx',\n",
              " 'Excel_processing_Basics_Colab_Module_3_backup_v2.ipynb']"
            ]
          },
          "metadata": {},
          "execution_count": 35
        }
      ]
    },
    {
      "cell_type": "markdown",
      "metadata": {
        "id": "J0-8YY6lAV_C",
        "toc-hr-collapsed": true
      },
      "source": [
        "# 2.&nbsp;First steps with openpyxl"
      ]
    },
    {
      "cell_type": "markdown",
      "metadata": {
        "id": "adIJenap7Vdc"
      },
      "source": [
        "Steps\n",
        "\n",
        "\n",
        "1.   Create / Load workbook\n",
        "2.   Worksheets\n",
        "3. Cell\n",
        "4. Column / Row\n",
        "5. Range"
      ]
    },
    {
      "cell_type": "markdown",
      "metadata": {
        "id": "eudazeQq9edg"
      },
      "source": [
        "## *Workbook*"
      ]
    },
    {
      "cell_type": "code",
      "execution_count": null,
      "metadata": {
        "id": "DnK4c4ir7eyq"
      },
      "outputs": [],
      "source": [
        "# create workbook object\n",
        "wb = Workbook()\n",
        "\n",
        "# load excel in the workbook object\n",
        "wb = load_workbook('Groceries.xlsx') # relative path\n",
        "wb # the variable \"wb\" is our workbook"
      ]
    },
    {
      "cell_type": "markdown",
      "metadata": {
        "id": "BiwfcMZv9hVn"
      },
      "source": [
        "## *Worksheets*"
      ]
    },
    {
      "cell_type": "code",
      "execution_count": null,
      "metadata": {
        "id": "y_0zaWf380ZK"
      },
      "outputs": [],
      "source": [
        "# check the sheetnames\n",
        "sheets = wb.sheetnames\n",
        "\n",
        "print('the excel workbook has 3 sheets with respective sheetnames:  ')\n",
        "sheets # the variable \"sheets\" is the list with sheetnames"
      ]
    },
    {
      "cell_type": "code",
      "execution_count": null,
      "metadata": {
        "id": "BKiyYAPZ84cP"
      },
      "outputs": [],
      "source": [
        "# grab a sheet by name\n",
        "ws = wb['Groceries'] # \"ws\" is the sheet \"Groceries\"\n",
        "print(ws.title) # print the name of the sheet\n",
        "\n",
        "# grab sheet by index\n",
        "ws_1 = wb[sheets[0]] # sheets[0] will give us 2st sheet: the same \"Groceries\"\n",
        "print(ws_1.title) # print the name of the sheet"
      ]
    },
    {
      "cell_type": "markdown",
      "metadata": {
        "id": "W97gr7jW9vql"
      },
      "source": [
        "## *Cell*\n"
      ]
    },
    {
      "cell_type": "code",
      "execution_count": null,
      "metadata": {
        "id": "YcDXi_hc9ABX"
      },
      "outputs": [],
      "source": [
        "# print cell A1 from the sheet\n",
        "# be aware of the difference\n",
        "\n",
        "print(ws['A1']) # this will print out the reference of the cell\n",
        "print(ws['A1'].value) # this wil print out the VALUE of the cell"
      ]
    },
    {
      "cell_type": "markdown",
      "metadata": {
        "id": "Ljg8clVj-IAb"
      },
      "source": [
        "## *Column / Row*"
      ]
    },
    {
      "cell_type": "raw",
      "metadata": {
        "id": "Eemp--lJfq4g"
      },
      "source": [
        "**Access a Column**"
      ]
    },
    {
      "cell_type": "code",
      "execution_count": null,
      "metadata": {
        "id": "ugD6qVo693fy"
      },
      "outputs": [],
      "source": [
        "# column A\n",
        "column_A = ws['A'] # for column use letter\n",
        "print('We obtain a tuple: ' )\n",
        "print('Only cell references (name of column and nb of row) without values... ' )\n",
        "column_A"
      ]
    },
    {
      "cell_type": "code",
      "execution_count": null,
      "metadata": {
        "id": "LUUmnmPe-NQe"
      },
      "outputs": [],
      "source": [
        "# we need to iterate in a loop, cell by cell to access the cell values from the column\n",
        "for cell in column_A[:7]: # [:11] will print out till the 11th row\n",
        "    print(cell.value)"
      ]
    },
    {
      "cell_type": "raw",
      "metadata": {
        "id": "PlnTkcGvfq4m"
      },
      "source": [
        "**Access a row**"
      ]
    },
    {
      "cell_type": "code",
      "execution_count": null,
      "metadata": {
        "id": "6m2o183P-p6P"
      },
      "outputs": [],
      "source": [
        "# 1st row\n",
        "row_1 = ws[1] # for row use nb of the row\n",
        "\n",
        "# we need to add .value at the end of the cell in order to access the VALUE, \n",
        "# otherwise we obtain only the cell references\n",
        "for cell in row_1:\n",
        "    print(cell.value)"
      ]
    },
    {
      "cell_type": "markdown",
      "metadata": {
        "id": "Y1YfWFXY-1yR"
      },
      "source": [
        "## *Range*"
      ]
    },
    {
      "cell_type": "raw",
      "metadata": {
        "id": "_EtSTjpcfq4n"
      },
      "source": [
        "**Accessing many cells within a cellrange** "
      ]
    },
    {
      "cell_type": "code",
      "execution_count": null,
      "metadata": {
        "id": "iAQI6jRx-vGw"
      },
      "outputs": [],
      "source": [
        "# grab a range\n",
        "\n",
        "cellrange = ws['A1:D3']\n",
        "print('The nested tuple...')\n",
        "print('')\n",
        "print(cellrange) # it will print out as a nested tuple composed of tuples,\n",
        "# each tuple containing the cell references of a row "
      ]
    },
    {
      "cell_type": "code",
      "execution_count": null,
      "metadata": {
        "id": "wgWi3STZfq4o"
      },
      "outputs": [],
      "source": [
        "print('Iterate the cellrange in a loop .....will iterate row by row...')\n",
        "print('')\n",
        "\n",
        "# loop \n",
        "for subtuple in cellrange:\n",
        "    print(subtuple)\n",
        "\n",
        "print('')\n",
        "print('....  only references are displayed without values')"
      ]
    },
    {
      "cell_type": "code",
      "execution_count": null,
      "metadata": {
        "id": "1bEZSMe3_L30"
      },
      "outputs": [],
      "source": [
        "# to acces values we need to iterate through the nested tuple\n",
        "# in the nested tuple we iterate through the inner tuples\n",
        "# in the inner tuples we iterate through each item of the tuples\n",
        "\n",
        "for tuples in cellrange: \n",
        "    for subitem in tuples:\n",
        "        print(subitem.value)\n",
        "\n",
        "print('.....note that it will iterarate in horizontal direction... ')"
      ]
    },
    {
      "cell_type": "code",
      "execution_count": null,
      "metadata": {
        "id": "6pYWoKNzfq4q"
      },
      "outputs": [],
      "source": [
        "# display image\n",
        "img = mpimg.imread('images/img_1.png')\n",
        "plt.imshow(img)\n",
        "plt.axis('off')\n",
        "plt.show()"
      ]
    },
    {
      "cell_type": "markdown",
      "metadata": {
        "id": "2_zGG46FAcDf",
        "tags": [],
        "toc-hr-collapsed": true
      },
      "source": [
        "# 3.&nbsp;Iterate through rows and columns"
      ]
    },
    {
      "cell_type": "markdown",
      "metadata": {
        "id": "fDMIVjPyBgwM"
      },
      "source": [
        "## *Rows : iter_rows()*"
      ]
    },
    {
      "cell_type": "code",
      "execution_count": null,
      "metadata": {
        "id": "UX745j5L_oal"
      },
      "outputs": [],
      "source": [
        "# Function iter_rows() is a method used to iterate through rows\n",
        "# it will iterate in horizontal direction\n",
        "\n",
        "# the arguments of the function are the limits of the targeted cellrange\n",
        "\n",
        "# for every row in the cellrange [1, 3, 1, 4]\n",
        "for row in ws.iter_rows(min_row=1, # the range starts at 1st row\n",
        "                        max_row=3, # the range ends at 3rd row\n",
        "                        min_col=1, # the range starts at 1st column\n",
        "                        max_col=4): # the range ends at 5th column\n",
        "    for cell in row: # access the each cell per row\n",
        "        print(cell)\n",
        "\n",
        "print('only cell referances will be displayed...')"
      ]
    },
    {
      "cell_type": "code",
      "execution_count": null,
      "metadata": {
        "id": "ox6CAbmLfq4t"
      },
      "outputs": [],
      "source": [
        "# display image\n",
        "img = mpimg.imread('images/img_2.png')\n",
        "plt.imshow(img)\n",
        "plt.axis('off')\n",
        "plt.show()"
      ]
    },
    {
      "cell_type": "code",
      "execution_count": null,
      "metadata": {
        "id": "u4oxtKQbAqk2"
      },
      "outputs": [],
      "source": [
        "# if we add << values_only=True >>\n",
        "\n",
        "for row in ws.iter_rows(min_row=1, max_row=3, min_col=1, max_col=4, \n",
        "                        values_only=True): # values_only=True meanse we want to access the values\n",
        "    for cell in row:\n",
        "        print(cell)\n",
        "    print('.........................end of row')"
      ]
    },
    {
      "cell_type": "markdown",
      "metadata": {
        "id": "6FipjyCIBw0T"
      },
      "source": [
        "## *Columns : iter_cols()*"
      ]
    },
    {
      "cell_type": "code",
      "execution_count": null,
      "metadata": {
        "id": "UqHhjeVQBAa6"
      },
      "outputs": [],
      "source": [
        "# iterate through col\n",
        "# it will iterate in vertically direction\n",
        "\n",
        "for col in ws.iter_cols(min_row=1, \n",
        "                        max_row=4, \n",
        "                        min_col=1, \n",
        "                        max_col=4, \n",
        "                        values_only=True):\n",
        "    for cell in col:\n",
        "        print(cell)\n",
        "    (print('..........end of column'))"
      ]
    },
    {
      "cell_type": "code",
      "execution_count": null,
      "metadata": {
        "id": "ZQyxhVIVfq4v"
      },
      "outputs": [],
      "source": [
        "# display image\n",
        "img = mpimg.imread('images/img_3.png')\n",
        "plt.imshow(img)\n",
        "plt.axis('off')\n",
        "plt.show()"
      ]
    },
    {
      "cell_type": "markdown",
      "metadata": {
        "id": "7hObinZEEvLz"
      },
      "source": [
        "## Iterate mulitple rows with range()\n"
      ]
    },
    {
      "cell_type": "raw",
      "metadata": {
        "id": "lupwOMjnfq4w"
      },
      "source": [
        "**Another way to access multiple rows...** "
      ]
    },
    {
      "cell_type": "code",
      "execution_count": null,
      "metadata": {
        "id": "SaGQTypAfq4w"
      },
      "outputs": [],
      "source": [
        "# range()\n",
        "\n",
        "# function  range() creates a sequence of numbers from 1 to 4\n",
        "\n",
        "# starting from 0 by default, and increments by 1 (by default), \n",
        "# and stops before a specified number.\n",
        "\n",
        "range(1, # starting from 1\n",
        "      13, # upper limit is not included\n",
        "      2) # step by 1, incrementation by 1"
      ]
    },
    {
      "cell_type": "code",
      "execution_count": null,
      "metadata": {
        "id": "fcU4yXtOfq4x"
      },
      "outputs": [],
      "source": [
        "for element in range(1,13, 2):\n",
        "    print(element)\n",
        "    \n",
        "# the range end limit is not included : so the last element is 3 and NOT 4"
      ]
    },
    {
      "cell_type": "code",
      "execution_count": null,
      "metadata": {
        "id": "PRKpNEQ9EzOU"
      },
      "outputs": [],
      "source": [
        "# Definition: control flow is the order in which the computer executes statements in a script\n",
        "\n",
        "# iterate through the range(1,4) that will return a sequence from 1 to 3\n",
        "# each element from the sequence (here assigned as the variable row) would be our row number\n",
        "\n",
        "# as the 1st control flow is executed, the variable row will increment by 1 \n",
        "# and so we will access the second row as the row variable will update to 1+1 = 2\n",
        "\n",
        "for row in range(1, 4):\n",
        "    for cell in ws[row]:\n",
        "        print('row nb:', row, cell.value)"
      ]
    },
    {
      "cell_type": "code",
      "execution_count": null,
      "metadata": {
        "id": "CQE5_ZjZfq42"
      },
      "outputs": [],
      "source": [
        "# display image\n",
        "img = mpimg.imread('images/img_4.png')\n",
        "plt.imshow(img)\n",
        "plt.axis('off')\n",
        "plt.show()"
      ]
    },
    {
      "cell_type": "markdown",
      "metadata": {
        "id": "24y352OMfq43"
      },
      "source": [
        "# 4.&nbsp; Frames (max row, max col)"
      ]
    },
    {
      "cell_type": "code",
      "execution_count": null,
      "metadata": {
        "id": "l2ylVEjVfq44"
      },
      "outputs": [],
      "source": [
        "# dimensions of excel table (like df)\n",
        "\n",
        "# get nb of rows of not blank cells of a sheet\n",
        "print(ws.max_row)\n",
        "\n",
        "# get nb of columns of not blank cells of a sheet\n",
        "print(ws.max_column)"
      ]
    },
    {
      "cell_type": "code",
      "execution_count": null,
      "metadata": {
        "id": "8Oua13Y1fq44"
      },
      "outputs": [],
      "source": [
        "# display image\n",
        "img = mpimg.imread('images/img_5.png')\n",
        "plt.imshow(img)\n",
        "plt.axis('off')\n",
        "plt.show()"
      ]
    },
    {
      "cell_type": "markdown",
      "metadata": {
        "id": "CfLtzXuiCYHP"
      },
      "source": [
        "# 5.&nbsp; Modifications"
      ]
    },
    {
      "cell_type": "markdown",
      "metadata": {
        "id": "wj73XNc8CgKb"
      },
      "source": [
        "## *Modify cell*"
      ]
    },
    {
      "cell_type": "code",
      "execution_count": null,
      "metadata": {
        "id": "eH9zbWrwB2-L"
      },
      "outputs": [],
      "source": [
        "# change cell value of A2 that contained \"Kevin' values\n",
        "ws['A2'] = 'Alex'\n",
        "\n",
        "# !!!! save the modification into another excel file\n",
        "# !!!! don't forget to save the modifications in the excel\n",
        "wb.save('Groceries_1.xlsx')"
      ]
    },
    {
      "cell_type": "code",
      "source": [
        "os.listdir()"
      ],
      "metadata": {
        "id": "lcz5X_K46nGx"
      },
      "execution_count": null,
      "outputs": []
    },
    {
      "cell_type": "code",
      "execution_count": null,
      "metadata": {
        "id": "-rFL2irwfq46"
      },
      "outputs": [],
      "source": [
        "# see what was written\n",
        "for row in ws[\"A1:E4\"]:\n",
        "    print ([x.value for x in row])"
      ]
    },
    {
      "cell_type": "code",
      "execution_count": null,
      "metadata": {
        "id": "DQz38eOOfq47"
      },
      "outputs": [],
      "source": [
        "# display image\n",
        "img = mpimg.imread('images/img_6.png')\n",
        "plt.imshow(img)\n",
        "plt.axis('off')\n",
        "plt.show()"
      ]
    },
    {
      "cell_type": "markdown",
      "metadata": {
        "id": "We4LEPtZC8j6"
      },
      "source": [
        " ## *Add cells to spreadsheet*"
      ]
    },
    {
      "cell_type": "code",
      "execution_count": null,
      "metadata": {
        "id": "2dz8agupCv96"
      },
      "outputs": [],
      "source": [
        "# Add a single cell using the location\n",
        "\n",
        "ws.cell(row=12, column=1).value = 'Greg' # add value 'Greg\" at row 12, column 1\n",
        "\n",
        "# !!!! Don't forget to save the modification\n",
        "wb.save('Groceries_1.xlsx')"
      ]
    },
    {
      "cell_type": "code",
      "execution_count": null,
      "metadata": {
        "id": "xVeOIepJfq48"
      },
      "outputs": [],
      "source": [
        "# see what was written\n",
        "for row in ws[\"A10:F12\"]:\n",
        "    print ([x.value for x in row])"
      ]
    },
    {
      "cell_type": "code",
      "execution_count": null,
      "metadata": {
        "id": "PfrGkFB0fq49"
      },
      "outputs": [],
      "source": [
        "# display image\n",
        "img = mpimg.imread('images/img_7.png')\n",
        "plt.imshow(img)\n",
        "plt.axis('off')\n",
        "plt.show()"
      ]
    },
    {
      "cell_type": "code",
      "execution_count": null,
      "metadata": {
        "id": "-ndJAsUcDEXm"
      },
      "outputs": [],
      "source": [
        "# Add multiple cells\n",
        "\n",
        "# we want to add 'Dan', 'Abagail', 'Leo' in the 1 column, starting the 13th row\n",
        "\n",
        "# 1. create list with names we want to add\n",
        "names=['Dan', 'Abagail', 'Leo']\n",
        "\n",
        "# 2. assign a variable with row index where we want to add the cell\n",
        "starting_row = 13\n",
        "\n",
        "# 3. copy/paste with a lopp\n",
        "\n",
        "# 3.1 copy element by element from names list and in a loop \n",
        "# 3.2 assign them in the workbook at the indicated location\n",
        "\n",
        "for name in names:\n",
        "    ws.cell(row=starting_row, column=1).value = name\n",
        "    # 3.3 increment the counter\n",
        "    starting_row= starting_row + 1\n",
        "\n",
        "# !!!! Don't forget to save the modification\n",
        "wb.save('Groceries_1.xlsx')"
      ]
    },
    {
      "cell_type": "code",
      "execution_count": null,
      "metadata": {
        "id": "_GPy_vChfq4-"
      },
      "outputs": [],
      "source": [
        "# see what was written\n",
        "for row in ws[\"A10:F16\"]:\n",
        "    print ([x.value for x in row])"
      ]
    },
    {
      "cell_type": "code",
      "execution_count": null,
      "metadata": {
        "id": "6rGaHTpTfq4-"
      },
      "outputs": [],
      "source": [
        "# display image\n",
        "img = mpimg.imread('images/img_8.png')\n",
        "plt.imshow(img)\n",
        "plt.axis('off')\n",
        "plt.show()"
      ]
    },
    {
      "cell_type": "code",
      "execution_count": null,
      "metadata": {
        "id": "xmypJi11FC1K"
      },
      "outputs": [],
      "source": [
        "# use loop to display the data cell by cell for each row\n",
        "for row in range(10, 16):\n",
        "    for cell in ws[row]:\n",
        "        print('row nb: ', row, cell.value)"
      ]
    },
    {
      "cell_type": "markdown",
      "metadata": {
        "id": "UKSpCoTXGhjg"
      },
      "source": [
        "*Return data as a tuple*"
      ]
    },
    {
      "cell_type": "code",
      "execution_count": null,
      "metadata": {
        "id": "FZgt9NwxGlNS"
      },
      "outputs": [],
      "source": [
        "# return data as tuples to have a more compact overview\n",
        "sheet_cells = []\n",
        "for rows in ws.iter_rows():\n",
        "    row_cells = []\n",
        "    for cell in rows:\n",
        "        row_cells.append(cell.value)\n",
        "    sheet_cells.append(tuple(row_cells))\n",
        "\n",
        "for row in sheet_cells:\n",
        "    print(row)"
      ]
    },
    {
      "cell_type": "markdown",
      "metadata": {
        "id": "dw9qhbLkF6SF"
      },
      "source": [
        "## *Create / Delete a new sheet*"
      ]
    },
    {
      "cell_type": "code",
      "execution_count": null,
      "metadata": {
        "id": "G_nK-aC8EDsh"
      },
      "outputs": [],
      "source": [
        "# change workseet title , from Groceries to Groceries_List\n",
        "ws.title = 'Groceries_List'\n",
        "wb.save('Groceries_1.xlsx')"
      ]
    },
    {
      "cell_type": "code",
      "execution_count": null,
      "metadata": {
        "id": "4EZT3eIyfq5G"
      },
      "outputs": [],
      "source": [
        "# display image\n",
        "img = mpimg.imread('images/img_9.png')\n",
        "plt.imshow(img)\n",
        "plt.axis('off')\n",
        "plt.show()"
      ]
    },
    {
      "cell_type": "code",
      "execution_count": null,
      "metadata": {
        "id": "OFe6FJ_KF_lN"
      },
      "outputs": [],
      "source": [
        "# create a new sheet where \n",
        "new_sheet= wb.create_sheet(title='New_sheet')\n",
        "wb.save('Groceries_1.xlsx')"
      ]
    },
    {
      "cell_type": "code",
      "execution_count": null,
      "metadata": {
        "id": "qV6uzNgHfq5H"
      },
      "outputs": [],
      "source": [
        "# display image\n",
        "img = mpimg.imread('images/img_10.png')\n",
        "plt.imshow(img)\n",
        "plt.axis('off')\n",
        "plt.show()"
      ]
    },
    {
      "cell_type": "code",
      "execution_count": null,
      "metadata": {
        "id": "20GHtvrmfq5I"
      },
      "outputs": [],
      "source": [
        "# observe the modifications in the sheets of the workbook\n",
        "wb.sheetnames"
      ]
    },
    {
      "cell_type": "code",
      "execution_count": null,
      "metadata": {
        "id": "dFlcD7JSGECZ"
      },
      "outputs": [],
      "source": [
        "# remove the sheet\n",
        "wb.remove(new_sheet)  \n",
        "wb.save('Groceries_1.xlsx')\n",
        "wb.sheetnames"
      ]
    },
    {
      "cell_type": "code",
      "execution_count": null,
      "metadata": {
        "id": "1o9JLOzmfq5J"
      },
      "outputs": [],
      "source": [
        "# display image\n",
        "img = mpimg.imread('images/img_11.png')\n",
        "plt.imshow(img)\n",
        "plt.axis('off')\n",
        "plt.show()"
      ]
    },
    {
      "cell_type": "markdown",
      "metadata": {
        "id": "VmDtrO3wGdsy"
      },
      "source": [
        "## *Append Data*"
      ]
    },
    {
      "cell_type": "raw",
      "metadata": {
        "id": "Zi3BJ2-pfq5K"
      },
      "source": [
        "if you want to add a complete data..."
      ]
    },
    {
      "cell_type": "code",
      "execution_count": null,
      "metadata": {
        "id": "Rlmn75wMGHNB"
      },
      "outputs": [],
      "source": [
        "# append data at the end of dataframe\n",
        "\n",
        "# we want to add new data at the end of existing dataframe in the worksheet... \n",
        "# new data would be 3 rows that include the 3 names with their respective fruits quantity\n",
        "\n",
        "# create a nested list that have 3 items, each item being a row in our excel\n",
        "newdata = [('John', 2, 1, 3, 1), \n",
        "           ('Mark', 4, 2, 3, 1), \n",
        "           ('Eva', 5, 7, 3, 2)]\n",
        "\n",
        "# looping through newdata to access its each item \n",
        "for item in newdata:\n",
        "    ws.append(item)\n",
        "\n",
        "# don't forget to save the modifications\n",
        "# and have the excel closed\n",
        "wb.save('Groceries_1.xlsx')"
      ]
    },
    {
      "cell_type": "code",
      "execution_count": null,
      "metadata": {
        "id": "_pfFpBeefq5K"
      },
      "outputs": [],
      "source": [
        "# see what was written\n",
        "for row in ws[\"A10:F19\"]:\n",
        "    print ([x.value for x in row])"
      ]
    },
    {
      "cell_type": "code",
      "execution_count": null,
      "metadata": {
        "id": "ICXK2ofkfq5L"
      },
      "outputs": [],
      "source": [
        "# display image\n",
        "img = mpimg.imread('images/img_12.png')\n",
        "plt.imshow(img)\n",
        "plt.axis('off')\n",
        "plt.show()"
      ]
    },
    {
      "cell_type": "code",
      "execution_count": null,
      "metadata": {
        "id": "vaAG6s_rfq5L"
      },
      "outputs": [],
      "source": [
        "# use loop to display the data cell by cell for each row\n",
        "for row in range(10, 20):\n",
        "    for cell in ws[row]:\n",
        "        print('row nb: ', row, cell.value)"
      ]
    },
    {
      "cell_type": "markdown",
      "metadata": {
        "id": "j8Wj4Jt8IcIR"
      },
      "source": [
        "# 5.1&nbsp; Copy / Paste ranges"
      ]
    },
    {
      "cell_type": "markdown",
      "metadata": {
        "id": "AH7tXAZHH_Fi"
      },
      "source": [
        "Notice that row 12 to 15 remain (from Greg to Leo) almost emtpty\n",
        "\n",
        "Let's copy some cell range to paste it in this rows"
      ]
    },
    {
      "cell_type": "markdown",
      "metadata": {
        "id": "I98oVtbnWKE_"
      },
      "source": [
        "## *Copy/Paste functions*"
      ]
    },
    {
      "cell_type": "code",
      "execution_count": null,
      "metadata": {
        "id": "bJ3CcbhRIJv8"
      },
      "outputs": [],
      "source": [
        "# write a function that woud copy a cell range\n",
        "\n",
        "# Arguments : start column, start row, end column, end row and sheet you want to copy from.\n",
        "\n",
        "def copyRange(startCol, startRow, endCol, endRow, sheet):\n",
        "    rangeSelected = []\n",
        "    # Loops through selected Rows\n",
        "    for i in range(\n",
        "      startRow,endRow + 1,1):\n",
        "        # Appends the row to a RowSelected list\n",
        "        rowSelected = []\n",
        "        for j in range(startCol,endCol+1,1):\n",
        "            rowSelected.append(sheet.cell(row = i, column = j).value)\n",
        "        # Adds the RowSelected List and nests inside the rangeSelected\n",
        "        rangeSelected.append(rowSelected)\n",
        "\n",
        "    return rangeSelected"
      ]
    },
    {
      "cell_type": "code",
      "execution_count": null,
      "metadata": {
        "id": "2cAJLV0cWa5r"
      },
      "outputs": [],
      "source": [
        "# write a function that woud paste a cell range\n",
        "\n",
        "# Paste data from copyRange into template sheet\n",
        "def pasteRange(startCol, startRow, endCol, endRow, sheetReceiving, copiedData):\n",
        "    countRow = 0\n",
        "    for i in range(startRow,endRow+1,1):\n",
        "        countCol = 0\n",
        "        for j in range(startCol,endCol+1,1):\n",
        "            \n",
        "            sheetReceiving.cell(row = i, column = j).value = copiedData[countRow][countCol]\n",
        "            countCol += 1\n",
        "        countRow += 1"
      ]
    },
    {
      "cell_type": "markdown",
      "metadata": {
        "id": "NxEe6g6nWuWj"
      },
      "source": [
        "## *Copy / paste a row*"
      ]
    },
    {
      "cell_type": "raw",
      "metadata": {
        "id": "A9KvXxK8fq5P"
      },
      "source": [
        "**Copy/Paste a single row** "
      ]
    },
    {
      "cell_type": "code",
      "execution_count": null,
      "metadata": {
        "id": "Eo3LnJf6WhWP"
      },
      "outputs": [],
      "source": [
        "selectedRange = copyRange(startCol =2,\n",
        "                          startRow= 2, # Alex row: \t7,\t8,\t11,\t4\n",
        "                          endCol= 5,\n",
        "                          endRow =2,\n",
        "                          sheet = ws) \n",
        "print(selectedRange)"
      ]
    },
    {
      "cell_type": "code",
      "execution_count": null,
      "metadata": {
        "id": "CQBYxM12fq5Q"
      },
      "outputs": [],
      "source": [
        "# display image\n",
        "img = mpimg.imread('images/img_13.png')\n",
        "plt.imshow(img)\n",
        "plt.axis('off')\n",
        "plt.show()"
      ]
    },
    {
      "cell_type": "code",
      "execution_count": null,
      "metadata": {
        "id": "xQcP0F7cWvzz"
      },
      "outputs": [],
      "source": [
        "pasteRange(startCol = 2,\n",
        "           startRow = 12, # Greg's row\n",
        "           endCol=5, \n",
        "           endRow = 12, \n",
        "           sheetReceiving= ws,\n",
        "           copiedData = selectedRange)\n",
        "wb.save('Groceries_1.xlsx') "
      ]
    },
    {
      "cell_type": "code",
      "execution_count": null,
      "metadata": {
        "id": "L3RoB6sAfq5R"
      },
      "outputs": [],
      "source": [
        "# see what was written\n",
        "for row in ws[\"A10:F18\"]:\n",
        "    print ([x.value for x in row])"
      ]
    },
    {
      "cell_type": "code",
      "execution_count": null,
      "metadata": {
        "id": "wB_HLxo5fq5S"
      },
      "outputs": [],
      "source": [
        "# display image\n",
        "# where we'd like to copy\n",
        "img = mpimg.imread('images/img_14.png')\n",
        "plt.imshow(img)\n",
        "plt.axis('off')\n",
        "plt.show()"
      ]
    },
    {
      "cell_type": "code",
      "execution_count": null,
      "metadata": {
        "id": "hpaah8QBfq5S"
      },
      "outputs": [],
      "source": [
        "# display image\n",
        "# after copy/paste copy\n",
        "img = mpimg.imread('images/img_15.png')\n",
        "plt.imshow(img)\n",
        "plt.axis('off')\n",
        "plt.show()"
      ]
    },
    {
      "cell_type": "code",
      "execution_count": null,
      "metadata": {
        "id": "taq5izU7fq5T"
      },
      "outputs": [],
      "source": [
        "# use loop to display the data cell by cell for each row # tabular display !!!!!!\n",
        "for row in range(11, 14):\n",
        "    for cell in ws[row]:\n",
        "        print('row nb: ', row, cell.value)"
      ]
    },
    {
      "cell_type": "markdown",
      "metadata": {
        "id": "-_gk_PhMXDXh"
      },
      "source": [
        "**Copy paste cellrange : mulitple rows and columns**"
      ]
    },
    {
      "cell_type": "code",
      "execution_count": null,
      "metadata": {
        "id": "daQVuEDrW5QM"
      },
      "outputs": [],
      "source": [
        "selectedRange = copyRange(startCol =2,\n",
        "                          startRow= 5,\n",
        "                          endCol= 5,\n",
        "                          endRow =7,\n",
        "                          sheet = ws) \n",
        "print(selectedRange)"
      ]
    },
    {
      "cell_type": "code",
      "execution_count": null,
      "metadata": {
        "id": "io57y-dzfq5V"
      },
      "outputs": [],
      "source": [
        "# the range we want to copy\n",
        "img = mpimg.imread('images/img_16.png')\n",
        "plt.imshow(img)\n",
        "plt.axis('off')\n",
        "plt.show()"
      ]
    },
    {
      "cell_type": "code",
      "execution_count": null,
      "metadata": {
        "id": "sIdF_nmIXIit"
      },
      "outputs": [],
      "source": [
        "# be carefull the paste range has to have the same dimensions as the selected range\n",
        "\n",
        "pasteRange(startCol = 2,\n",
        "           startRow = 13, \n",
        "           endCol=5, \n",
        "           endRow = 15, \n",
        "           sheetReceiving= ws,\n",
        "           copiedData = selectedRange)\n",
        "wb.save('Groceries_1.xlsx') "
      ]
    },
    {
      "cell_type": "code",
      "execution_count": null,
      "metadata": {
        "id": "MwPjq48Ffq5X"
      },
      "outputs": [],
      "source": [
        "# after copy pasting the range\n",
        "img = mpimg.imread('images/img_17.png')\n",
        "plt.imshow(img)\n",
        "plt.axis('off')\n",
        "plt.show()"
      ]
    },
    {
      "cell_type": "code",
      "execution_count": null,
      "metadata": {
        "id": "K6_os4Tzfq5X"
      },
      "outputs": [],
      "source": [
        "# use loop to display the data cell by cell for each row\n",
        "for row in range(13, 16):\n",
        "    for cell in ws[row]:\n",
        "        print('row nb: ', row, cell.value)"
      ]
    },
    {
      "cell_type": "markdown",
      "metadata": {
        "id": "6QwoJF2QXV3U"
      },
      "source": [
        "# 5.2&nbsp; Write / copy a list in a cell range"
      ]
    },
    {
      "cell_type": "code",
      "execution_count": null,
      "metadata": {
        "id": "C6wBC7kGXI8e"
      },
      "outputs": [],
      "source": [
        "# we want to write in the excel some data 'Tom', 8, 2, 3, 2\n",
        "\n",
        "cellrange = ['Tom', 8, 2, 3, 2]\n",
        "\n",
        "print(cellrange)\n",
        "print(len(cellrange))"
      ]
    },
    {
      "cell_type": "code",
      "execution_count": null,
      "metadata": {
        "id": "vArkQj8bfq5Z"
      },
      "outputs": [],
      "source": [
        "print('the lenght of cellrange is ', len(cellrange))\n",
        "print('   ')\n",
        "\n",
        "# iterate through the cellrange\n",
        "# we use len(cellange) so we won't need to intervene manually to get the legnth of the cellrange\n",
        "for i in range(0, len(cellrange)):\n",
        "    print(i)"
      ]
    },
    {
      "cell_type": "code",
      "source": [
        "ws.max_row"
      ],
      "metadata": {
        "id": "CUaiD3WVHn0b"
      },
      "execution_count": null,
      "outputs": []
    },
    {
      "cell_type": "code",
      "execution_count": null,
      "metadata": {
        "id": "F4WYy0B9Xb5X"
      },
      "outputs": [],
      "source": [
        "# to write the data in the excel...\n",
        "# 1. indicate the location where to write..\n",
        "# 2. target_row ==> at what row, column ==> at what column start writing\n",
        "# 3. assign each cell value at indicated location the elements from the data in the cellrange\n",
        "\n",
        "target_row= 21\n",
        "for i in range(0, len(cellrange)):\n",
        "    # give values to cells\n",
        "    ws.cell(row = target_row, # at what row\n",
        "            # at what column, incrementation by +1\n",
        "            # innitially our i=0, we'll add + 1 to obtain the column 1\n",
        "            column = i+1).value= cellrange[i] # add .value to assign value \n",
        "                                              # = cellrange[0] (==> \"Tom\" at 1st loop)\n",
        "    \n",
        "# save the modifications\n",
        "wb.save('Groceries_1.xlsx')     "
      ]
    },
    {
      "cell_type": "code",
      "execution_count": null,
      "metadata": {
        "id": "aJCyMfFNfq5a"
      },
      "outputs": [],
      "source": [
        "# \n",
        "img = mpimg.imread('images/img_18.png')\n",
        "plt.imshow(img)\n",
        "plt.axis('off')\n",
        "plt.show()"
      ]
    },
    {
      "cell_type": "code",
      "execution_count": null,
      "metadata": {
        "id": "wO6nBFZLfq5a"
      },
      "outputs": [],
      "source": [
        "# see what was written\n",
        "for row in ws[\"A18:I22\"]:\n",
        "    print ([x.value for x in row])"
      ]
    },
    {
      "cell_type": "markdown",
      "metadata": {
        "id": "OCXjQt7PYGnc"
      },
      "source": [
        "# 5.3&nbsp; Move / Insert / Remove"
      ]
    },
    {
      "cell_type": "markdown",
      "metadata": {
        "id": "clti-j4cfq5b"
      },
      "source": [
        "## *Move*"
      ]
    },
    {
      "cell_type": "raw",
      "metadata": {
        "id": "S8rlNrsMfq5c"
      },
      "source": [
        "**Move cell** "
      ]
    },
    {
      "cell_type": "code",
      "execution_count": null,
      "metadata": {
        "id": "Q0jzhk-4XiaX"
      },
      "outputs": [],
      "source": [
        "# function _move_cell\n",
        "\n",
        "# we want to move cell from B21 with '8' value to \n",
        "ws._move_cell(row =21, \n",
        "              column= 2, \n",
        "              row_offset= -1, # negative goes up, postivie goes down (here 1 row up)\n",
        "              col_offset = 0) # negative to left, postivie to the right (here 0 means do not move column)\n",
        "\n",
        "wb.save('Groceries_1.xlsx')"
      ]
    },
    {
      "cell_type": "code",
      "execution_count": null,
      "metadata": {
        "id": "_0d1CzW9fq5d"
      },
      "outputs": [],
      "source": [
        "# \n",
        "img = mpimg.imread('images/img_19.png')\n",
        "plt.imshow(img)\n",
        "plt.axis('off')\n",
        "plt.show()"
      ]
    },
    {
      "cell_type": "code",
      "execution_count": null,
      "metadata": {
        "id": "Z4teUV4xYc8h"
      },
      "outputs": [],
      "source": [
        "# see what was written\n",
        "for row in ws[\"A18:I22\"]:\n",
        "    print ([x.value for x in row])"
      ]
    },
    {
      "cell_type": "raw",
      "metadata": {
        "id": "9kuEVsIEfq5f"
      },
      "source": [
        "**Move range** "
      ]
    },
    {
      "cell_type": "code",
      "execution_count": null,
      "metadata": {
        "id": "MiY_RQZxfNcS"
      },
      "outputs": [],
      "source": [
        "# function _move_range\n",
        "\n",
        "ws.move_range(\"A19:E19\", # the range we want to move (here Tome row\n",
        "               rows= -2, # how many rows to shift \n",
        "               cols = 0) # how many columns to shift\n",
        "wb.save('Groceries_1.xlsx')\n",
        "\n",
        "# see what was written\n",
        "for row in ws[\"A18:I22\"]:\n",
        "    print ([x.value for x in row]) # it overwrite on the existing row, (so now John disapeared)"
      ]
    },
    {
      "cell_type": "code",
      "source": [
        "for idx, row in enumerate(ws['A1:F22']):\n",
        "   print(idx+1, [x.value for x in row])"
      ],
      "metadata": {
        "id": "WP97SECIDkQ0"
      },
      "execution_count": null,
      "outputs": []
    },
    {
      "cell_type": "code",
      "execution_count": null,
      "metadata": {
        "id": "x4IYHu8Wfq5g"
      },
      "outputs": [],
      "source": [
        "# \n",
        "img = mpimg.imread('images/img_20.png')\n",
        "plt.imshow(img)\n",
        "plt.axis('off')\n",
        "plt.show()"
      ]
    },
    {
      "cell_type": "markdown",
      "metadata": {
        "id": "oJP25xRUf7CU"
      },
      "source": [
        "## *Insert*"
      ]
    },
    {
      "cell_type": "raw",
      "metadata": {
        "id": "iqjRdtUrfq5h"
      },
      "source": [
        "**Insert rows**  \n"
      ]
    },
    {
      "cell_type": "code",
      "source": [
        "for idx, row in enumerate(ws['A1:F22']):\n",
        "   print(idx+1, [x.value for x in row])"
      ],
      "metadata": {
        "id": "_jjoFbsYJ8ha"
      },
      "execution_count": null,
      "outputs": []
    },
    {
      "cell_type": "code",
      "execution_count": null,
      "metadata": {
        "id": "RmsDBVvBYulH"
      },
      "outputs": [],
      "source": [
        "# insert rows\n",
        "\n",
        "ws.insert_rows(idx=10, # row index location\n",
        "               amount=2) # how many rows to insert\n",
        "wb.save('Groceries_1.xlsx') \n",
        "\n",
        "# see what was written\n",
        "\n",
        "for idx, row in enumerate(ws['A1:F25']):\n",
        "   print(idx+1, [x.value for x in row])"
      ]
    },
    {
      "cell_type": "code",
      "execution_count": null,
      "metadata": {
        "id": "PpO4_uCofq5i"
      },
      "outputs": [],
      "source": [
        "# inserted rows\n",
        "img = mpimg.imread('images/img_21.png')\n",
        "plt.imshow(img)\n",
        "plt.axis('off')\n",
        "plt.show()"
      ]
    },
    {
      "cell_type": "raw",
      "metadata": {
        "id": "wnIe58r_fq5j"
      },
      "source": [
        "**Insert columns** "
      ]
    },
    {
      "cell_type": "code",
      "execution_count": null,
      "metadata": {
        "id": "krHytnw-ZlCa"
      },
      "outputs": [],
      "source": [
        "# insert columns\n",
        "ws.insert_cols(idx=1, # col index location\n",
        "               amount=1) # how many cols to insert\n",
        "\n",
        "wb.save('Groceries_1.xlsx') \n",
        "\n",
        "# see what was written\n",
        "for row in ws[\"A1:I5\"]:\n",
        "    print ([x.value for x in row])"
      ]
    },
    {
      "cell_type": "code",
      "execution_count": null,
      "metadata": {
        "id": "w7xHf7Q-fq5k"
      },
      "outputs": [],
      "source": [
        "# inserted cols \n",
        "img = mpimg.imread('images/img_22.png')\n",
        "plt.imshow(img)\n",
        "plt.axis('off')\n",
        "plt.show()"
      ]
    },
    {
      "cell_type": "code",
      "source": [
        "# show an example of insertion of values\n",
        "\n",
        "cellrange = ['Rob', 12, 2, 3, 2] # insert 'Rob' at between Alex and Sean"
      ],
      "metadata": {
        "id": "c73jaBAKTf5W"
      },
      "execution_count": null,
      "outputs": []
    },
    {
      "cell_type": "markdown",
      "metadata": {
        "id": "KIoqHDAVfq5k"
      },
      "source": [
        "## *Delete*"
      ]
    },
    {
      "cell_type": "raw",
      "metadata": {
        "id": "odImuCgcfq5n"
      },
      "source": [
        "**Delete Cell** "
      ]
    },
    {
      "cell_type": "code",
      "source": [
        "for idx, row in enumerate(ws['A20:F25']):\n",
        "   print(idx+20, [x.value for x in row])"
      ],
      "metadata": {
        "id": "CF4mFzwyKglc"
      },
      "execution_count": null,
      "outputs": []
    },
    {
      "cell_type": "code",
      "execution_count": null,
      "metadata": {
        "id": "_7-9Objie7TP"
      },
      "outputs": [],
      "source": [
        "# remove unwanted cell\n",
        "\n",
        "ws.cell(row=24, column=3).value = None\n",
        "wb.save('Groceries_1.xlsx')\n",
        "\n",
        "for idx, row in enumerate(ws['A20:F25']):\n",
        "   print(idx+20, [x.value for x in row])"
      ]
    },
    {
      "cell_type": "code",
      "execution_count": null,
      "metadata": {
        "id": "Ox5k4NFofq5p"
      },
      "outputs": [],
      "source": [
        "# removed cell (we have remove value 8, from row 22, col 3\n",
        "img = mpimg.imread('images/img_23.png')\n",
        "plt.imshow(img)\n",
        "plt.axis('off')\n",
        "plt.show()"
      ]
    },
    {
      "cell_type": "code",
      "execution_count": null,
      "metadata": {
        "id": "y8rXyqX9fq5q"
      },
      "outputs": [],
      "source": [
        "# Get value of the cells \n",
        "for row in ws[\"A1:F25\"]:\n",
        "    print ([x.value for x in row])"
      ]
    },
    {
      "cell_type": "raw",
      "metadata": {
        "id": "3kN4pkNGfq5r"
      },
      "source": [
        "**Remove row** "
      ]
    },
    {
      "cell_type": "code",
      "source": [
        "for idx, row in enumerate(ws['A1:F25']):\n",
        "   print(idx+1, [x.value for x in row])"
      ],
      "metadata": {
        "id": "Vz3hLwxfF0Be"
      },
      "execution_count": null,
      "outputs": []
    },
    {
      "cell_type": "code",
      "execution_count": null,
      "metadata": {
        "id": "BHWlj_wZZ7R3"
      },
      "outputs": [],
      "source": [
        "# delete rows\n",
        "\n",
        "ws.delete_rows(idx=12, amount=4) # the empty rows\n",
        "wb.save('Groceries_1.xlsx') \n",
        "\n",
        "# see what was written\n",
        "\n",
        "for idx, row in enumerate(ws['A1:F25']):\n",
        "   print(idx+1, [x.value for x in row])"
      ]
    },
    {
      "cell_type": "code",
      "execution_count": null,
      "metadata": {
        "id": "QULqd43kfq5s"
      },
      "outputs": [],
      "source": [
        "# removed row (we remove the empty rows that we previously inserted\n",
        "# ad now at the row 10 we're have \"Rachel\" row (was shited by 2 columns)\n",
        "img = mpimg.imread('images/img_24.png')\n",
        "plt.imshow(img)\n",
        "plt.axis('off')\n",
        "plt.show()"
      ]
    },
    {
      "cell_type": "raw",
      "metadata": {
        "id": "ad0P9s3yfq5s"
      },
      "source": [
        "**Delete columns** "
      ]
    },
    {
      "cell_type": "code",
      "execution_count": null,
      "metadata": {
        "id": "i1ge-s86g1z1"
      },
      "outputs": [],
      "source": [
        "# delete cols\n",
        "\n",
        "ws.delete_cols(idx=1, amount=1)\n",
        "wb.save('Groceries_1.xlsx') \n",
        "\n",
        "# see what was written\n",
        "\n",
        "for idx, row in enumerate(ws['A1:F5']):\n",
        "   print(idx+1, [x.value for x in row])"
      ]
    },
    {
      "cell_type": "code",
      "execution_count": null,
      "metadata": {
        "id": "iEgYxfjHfq5u"
      },
      "outputs": [],
      "source": [
        "# removed column\n",
        "img = mpimg.imread('images/img_25.png')\n",
        "plt.imshow(img)\n",
        "plt.axis('off')\n",
        "plt.show()"
      ]
    },
    {
      "cell_type": "code",
      "source": [
        "for row in ws[\"A19:I20\"]:\n",
        "    print ([x.value for x in row])"
      ],
      "metadata": {
        "id": "gBRNXrUcLujO"
      },
      "execution_count": null,
      "outputs": []
    },
    {
      "cell_type": "code",
      "execution_count": null,
      "metadata": {
        "id": "xKqvH2Xnfq5v"
      },
      "outputs": [],
      "source": [
        "# Give the value 10 to row Tom, column 2 Orange\n",
        "\n",
        "ws.cell(row=15, column=5).value = 5\n",
        "wb.save('Groceries_1.xlsx')\n",
        "\n",
        "for idx, row in enumerate(ws['A1:F25']):\n",
        "   print(idx+1, [x.value for x in row])"
      ]
    },
    {
      "cell_type": "code",
      "execution_count": null,
      "metadata": {
        "id": "CEfXmttafq5v"
      },
      "outputs": [],
      "source": [
        "# let's remove the null row between Le and John, row 16 \n",
        "\n",
        "ws.delete_rows(idx=11, amount=1)\n",
        "wb.save('Groceries_1.xlsx') \n",
        "\n",
        "# see what was written\n",
        "\n",
        "for idx, row in enumerate(ws['A1:F25']):\n",
        "   print(idx+1, [x.value for x in row])"
      ]
    },
    {
      "cell_type": "code",
      "source": [
        "for idx, row in enumerate(ws[\"A14:F22\"]):\n",
        "        print(idx+14, [x.value for x in row])"
      ],
      "metadata": {
        "id": "rJvG2jT6-bqG"
      },
      "execution_count": null,
      "outputs": []
    },
    {
      "cell_type": "markdown",
      "metadata": {
        "id": "JWsCnJrpaaaP"
      },
      "source": [
        "# 6&nbsp; Identify locations "
      ]
    },
    {
      "cell_type": "raw",
      "metadata": {
        "id": "ou_R3wt6fq5w"
      },
      "source": [
        "**use get_column_letter, column_index_from_string to identify locations**  "
      ]
    },
    {
      "cell_type": "code",
      "execution_count": null,
      "metadata": {
        "id": "aK8UMxWJac1f"
      },
      "outputs": [],
      "source": [
        "# find the column letter from index\n",
        "get_column_letter(129)"
      ]
    },
    {
      "cell_type": "code",
      "execution_count": null,
      "metadata": {
        "id": "RCUa_UpsadgL"
      },
      "outputs": [],
      "source": [
        "# find column index from letter\n",
        "column_index_from_string('BMY')"
      ]
    },
    {
      "cell_type": "markdown",
      "metadata": {
        "id": "Z8_Wy_4ifq5y"
      },
      "source": [
        "## Accurate max rows, max columns"
      ]
    },
    {
      "cell_type": "code",
      "source": [
        "# reminder of excel\n",
        "\n",
        "for id, row in enumerate(ws['A1:E22']):\n",
        "    print (id +1 , [x.value for x in row])"
      ],
      "metadata": {
        "id": "N7prPdaJBZJF"
      },
      "execution_count": null,
      "outputs": []
    },
    {
      "cell_type": "markdown",
      "source": [
        "### Max Rows accurate"
      ],
      "metadata": {
        "id": "HFamDvNo99q_"
      }
    },
    {
      "cell_type": "code",
      "source": [
        "# write a new range to add that will add at row 20\n",
        "cellrange = ['William', 8, 2, 3, 2]\n",
        "\n",
        "\n",
        "print(cellrange)\n",
        "target_row= 20\n",
        "for i in range(0, len(cellrange)):\n",
        "    ws.cell(row=target_row, column = i+1).value= cellrange[i]\n",
        "    \n",
        "wb.save('Groceries_1.xlsx') "
      ],
      "metadata": {
        "id": "EE5NNK2jA87K"
      },
      "execution_count": null,
      "outputs": []
    },
    {
      "cell_type": "code",
      "source": [
        "# William at row 20\n",
        "img = mpimg.imread('images/img_26.png')\n",
        "plt.imshow(img)\n",
        "plt.axis('off')\n",
        "plt.show()"
      ],
      "metadata": {
        "id": "v4NKb1H8BCiq"
      },
      "execution_count": null,
      "outputs": []
    },
    {
      "cell_type": "code",
      "execution_count": null,
      "metadata": {
        "id": "ieicbAkHheKf"
      },
      "outputs": [],
      "source": [
        "# previously we had 11 rows\n",
        "# but we did some modifications/ add/delete data\n",
        "\n",
        "# run again max_row() function to get nb of rows of excel dataframe\n",
        "\n",
        "print('we get the wrong number of rows that are not blank...')\n",
        "print('we should have gotten 18 or 20...but got...')      \n",
        "ws.max_row"
      ]
    },
    {
      "cell_type": "code",
      "source": [
        "# in reality\n",
        "\n",
        "df_range= 'A1:' + str(get_column_letter(ws.max_column)) + str(ws.max_row)\n",
        "print(df_range)\n",
        "\n",
        "for id, row in enumerate(ws[df_range]):\n",
        "    print (id +1 , [x.value for x in row])"
      ],
      "metadata": {
        "id": "I-Az_ekFOfEC"
      },
      "execution_count": null,
      "outputs": []
    },
    {
      "cell_type": "markdown",
      "metadata": {
        "id": "Q3QhvpQniuWI"
      },
      "source": [
        "Sometimes if the worksheet was manipulated, some columns or rows are added even if there cells are empty.\n",
        "\n",
        "==> To evercome this we'll write function to compute max rows and max col\n",
        "\n",
        "\n"
      ]
    },
    {
      "cell_type": "code",
      "execution_count": null,
      "metadata": {
        "id": "xepc43EQis82"
      },
      "outputs": [],
      "source": [
        "# write a function that will ompute the accurate nb of rows till the first blank\n",
        "def get_maximum_rows_blank(*, sheet_object):\n",
        "    rows = 0\n",
        "    for max_row, row in enumerate(sheet_object, 1):\n",
        "        if  not all(col.value is None for col in row):\n",
        "            rows += 1\n",
        "        \n",
        "    return rows\n",
        "\n",
        "get_maximum_rows_blank(sheet_object = ws) "
      ]
    },
    {
      "cell_type": "code",
      "source": [
        "# this function will stop at first blank ()\n",
        "for id, row in enumerate(ws[df_range]):\n",
        "    print (id +1 , [x.value for x in row])"
      ],
      "metadata": {
        "id": "z7Q5UXFgj9SI"
      },
      "execution_count": null,
      "outputs": []
    },
    {
      "cell_type": "code",
      "source": [
        "# write a function that will ompute the accurate nb of rows\n",
        "def get_maximum_rows(*, sheet_object):\n",
        "    df_range= 'A1:' + str(get_column_letter(ws.max_column)) + str(ws.max_row)\n",
        "    rows = 0\n",
        "    for idx, row in enumerate(ws[df_range]): # values_only=True meanse we want to access the values\n",
        "        if not all(col.value is None for col in row):\n",
        "            rows += 1\n",
        "            last_row = idx+1\n",
        "    return last_row\n",
        "\n",
        "get_maximum_rows(sheet_object = ws) "
      ],
      "metadata": {
        "id": "bwPlHSlb4Hj4"
      },
      "execution_count": null,
      "outputs": []
    },
    {
      "cell_type": "code",
      "source": [
        "for id, row in enumerate (ws[df_range]):\n",
        "  print(id+1, [x.value for x in row])"
      ],
      "metadata": {
        "id": "IbpMA6ZNkch5"
      },
      "execution_count": null,
      "outputs": []
    },
    {
      "cell_type": "code",
      "execution_count": null,
      "metadata": {
        "id": "3L02nnQ-fq57"
      },
      "outputs": [],
      "source": [
        "# compare function\n",
        "\n",
        "print('with gaps: ', get_maximum_rows(sheet_object = ws)) \n",
        "print('up to the 1st blank ',get_maximum_rows_blank(sheet_object = ws))\n",
        "print('openpyxl max_row: ', ws.max_row)"
      ]
    },
    {
      "cell_type": "markdown",
      "source": [
        "### Max Columns accurate"
      ],
      "metadata": {
        "id": "GgqxyZft91LA"
      }
    },
    {
      "cell_type": "code",
      "source": [
        "print('we get the wrong number of columns that are not blank...')\n",
        "print('we should have gotten 5...but got...')   \n",
        "\n",
        "ws.max_column"
      ],
      "metadata": {
        "id": "RZO_Rnh_9zxV"
      },
      "execution_count": null,
      "outputs": []
    },
    {
      "cell_type": "code",
      "execution_count": null,
      "metadata": {
        "id": "L0bNCFvJhnNm"
      },
      "outputs": [],
      "source": [
        "# nb of columnss of excel dataframe with blank cells\n",
        "ws.max_column"
      ]
    },
    {
      "cell_type": "code",
      "execution_count": null,
      "metadata": {
        "id": "D5FcatstjuAx"
      },
      "outputs": [],
      "source": [
        "# write a function that will ompute the accurate nb of rows\n",
        "\n",
        "def get_maximum_cols(sheet):\n",
        "    for i in range(2, 20000):\n",
        "        if sheet.cell(row=1, column= i).value == None:\n",
        "            max_col = i\n",
        "            break\n",
        "    return max_col-1"
      ]
    },
    {
      "cell_type": "code",
      "execution_count": null,
      "metadata": {
        "id": "uQDNprAWfq5-"
      },
      "outputs": [],
      "source": [
        "# it will count non blanks columns\n",
        "get_maximum_cols(sheet=ws)  #review function to get the framing of non blank columns  "
      ]
    },
    {
      "cell_type": "markdown",
      "metadata": {
        "id": "uaEWFHqYfq5-"
      },
      "source": [
        "# 7&nbsp;Computation (Formulas or pandas)"
      ]
    },
    {
      "cell_type": "markdown",
      "metadata": {
        "id": "1RWAguHGfq5_"
      },
      "source": [
        "## Use Formulas with openpyxl"
      ]
    },
    {
      "cell_type": "code",
      "execution_count": null,
      "metadata": {
        "id": "Ez3zhthJagxR"
      },
      "outputs": [],
      "source": [
        "# we want to sum the \"Alex\" row with the data: Alex\t7,8,11,4\n",
        "# that would give us 30\n",
        "\n",
        "\n",
        "ws['F2']= '=SUM(B2:E2)'\n",
        "print(ws['F2'].value)\n",
        "wb.save('Groceries_1.xlsx') # check if excel in other language average in engl and moyenne in fr"
      ]
    },
    {
      "cell_type": "code",
      "execution_count": null,
      "metadata": {
        "id": "OANyu070fq6A"
      },
      "outputs": [],
      "source": [
        "# the cell with the formula\n",
        "img = mpimg.imread('images/img_27.png')\n",
        "plt.imshow(img)\n",
        "plt.axis('off')\n",
        "plt.show()"
      ]
    },
    {
      "cell_type": "markdown",
      "source": [
        "Keep in mind that when using formulas with openpyxl package, in the excel you would see the numerical result value.\n",
        "\n",
        "But in reality, the value of the cell will be the text of the written formula\n",
        "\n",
        "****** That's why I recommend using opepyxl formulas only if there are no further manipulation of the excel\n",
        "\n",
        "****** Otherwise I recomment tu use pandas to do calculations, that will be explained later..."
      ],
      "metadata": {
        "id": "8dv4iuIuv09k"
      }
    },
    {
      "cell_type": "code",
      "execution_count": null,
      "metadata": {
        "id": "NMUR-CuPiKdh"
      },
      "outputs": [],
      "source": [
        "# remove the cell we just wrote\n",
        "\n",
        "ws.cell(row=2, column=6).value = None\n",
        "wb.save('Groceries_1.xlsx')"
      ]
    },
    {
      "cell_type": "markdown",
      "metadata": {
        "id": "XldQvCIvmLev"
      },
      "source": [
        "**Column Totals** "
      ]
    },
    {
      "cell_type": "raw",
      "metadata": {
        "id": "pnvpHfBafq6C"
      },
      "source": [
        "*Compute and add column with Total of columns using excel formulas* "
      ]
    },
    {
      "cell_type": "code",
      "execution_count": null,
      "metadata": {
        "id": "2AOIZNItfq6C"
      },
      "outputs": [],
      "source": [
        "# we would like to add totals in the column F ( excel range F1:F20)\n",
        "img = mpimg.imread('images/img_28.png')\n",
        "plt.imshow(img)\n",
        "plt.axis('off')\n",
        "plt.show()"
      ]
    },
    {
      "cell_type": "code",
      "execution_count": null,
      "metadata": {
        "id": "0_6OVBskaj3q"
      },
      "outputs": [],
      "source": [
        "# column totals\n",
        "\n",
        "# identify the range location where to write the result of column\n",
        "first_row = 2\n",
        "\n",
        "# locate the last row\n",
        "last_row = get_maximum_rows(sheet_object = ws) # 20\n",
        "print(last_row)\n",
        "\n",
        "# locate the last column\n",
        "end_col = get_maximum_cols(sheet=ws) # ==> 5\n",
        "print(end_col)\n",
        "\n",
        "# locate the column where to comute the total\n",
        "sum_col = end_col + 1 # ==> 6\n",
        "\n",
        "# from what column to compute the totals\n",
        "start_col = 2\n",
        "\n",
        "# iterate row by row, by giving the parameters of the range F1:F20\n",
        "for row in ws.iter_rows(min_row = 2, # from row 2\n",
        "                        max_row = last_row, # till row 20\n",
        "                        min_col =  sum_col, # in column 6\n",
        "                        max_col = sum_col): # in column 6\n",
        "    \n",
        "    # iterate through cell in each row\n",
        "    # assign values by applying the formula\n",
        "    for cell in row:\n",
        "        # identify /write the range of the cell to sum up\n",
        "        # cellrange referance\n",
        "        \n",
        "        # concatenate strings to get the cell reference that is in iteration\n",
        "        # begining of the range \n",
        "        cell_sum_start = str(get_column_letter(start_col)) + str(first_row) # cell ref 'B2'\n",
        "        # end of the range\n",
        "        cell_col_end = str(get_column_letter(end_col)) + str(first_row) # cell ref 'E2'\n",
        "        # sum up \n",
        "        # will write the formula in Excel style      \n",
        "        cell.value = '=SUM({0}:{1})'.format(cell_sum_start, cell_col_end)  # '=SUM(B2:E2)'\n",
        "        # increment the row number for the next iteration\n",
        "        first_row= first_row+1\n",
        "\n",
        "wb.save('Groceries_1.xlsx')"
      ]
    },
    {
      "cell_type": "code",
      "execution_count": null,
      "metadata": {
        "id": "9IhS5bhMfq6D"
      },
      "outputs": [],
      "source": [
        "# 1st part of iteration (green range)\n",
        "img = mpimg.imread('images/img_28.png')\n",
        "plt.imshow(img)\n",
        "plt.axis('off')\n",
        "plt.show()"
      ]
    },
    {
      "cell_type": "code",
      "execution_count": null,
      "metadata": {
        "id": "Z_w7mFU6fq6E"
      },
      "outputs": [],
      "source": [
        "# 2nd part of iteration, iteration row by row, and cell by cell in each row\n",
        "img = mpimg.imread('images/img_29.png')\n",
        "plt.imshow(img)\n",
        "plt.axis('off')\n",
        "plt.show()"
      ]
    },
    {
      "cell_type": "code",
      "execution_count": null,
      "metadata": {
        "id": "U673Zj03fq6E"
      },
      "outputs": [],
      "source": [
        "# 3rd part of iteration \n",
        "img = mpimg.imread('images/img_30.png')\n",
        "plt.imshow(img)\n",
        "plt.axis('off')\n",
        "plt.show()"
      ]
    },
    {
      "cell_type": "code",
      "execution_count": null,
      "metadata": {
        "id": "9KUkSWK-fq6F"
      },
      "outputs": [],
      "source": [
        "first_row = 2\n",
        "str(first_row)"
      ]
    },
    {
      "cell_type": "code",
      "execution_count": null,
      "metadata": {
        "id": "uTFLXHv3fq6F"
      },
      "outputs": [],
      "source": [
        "str(get_column_letter(start_col)) + str(first_row)"
      ]
    },
    {
      "cell_type": "code",
      "execution_count": null,
      "metadata": {
        "id": "Fzdbqyb4fq6F"
      },
      "outputs": [],
      "source": [
        "get_column_letter(end_col)"
      ]
    },
    {
      "cell_type": "code",
      "execution_count": null,
      "metadata": {
        "id": "T1Atwkt_fq6H"
      },
      "outputs": [],
      "source": [
        "str(get_column_letter(end_col)) + str(first_row)"
      ]
    },
    {
      "cell_type": "code",
      "execution_count": null,
      "metadata": {
        "id": "CoxbKjOKfq6H"
      },
      "outputs": [],
      "source": [
        "'=SUM({0}:{1})'.format(cell_sum_start, cell_col_end) "
      ]
    },
    {
      "cell_type": "code",
      "source": [
        "# when using formumas, the output will be the syntax of the formula, nut in excel we will see the numerical values\n",
        "for id, row in enumerate(ws[\"A1:F22\"]):\n",
        "  print(id+1, [x.value for x in row])"
      ],
      "metadata": {
        "id": "omlOqS8wWkIO"
      },
      "execution_count": null,
      "outputs": []
    },
    {
      "cell_type": "raw",
      "metadata": {
        "id": "pCUhhcXqfq6I"
      },
      "source": [
        "**Add headers for total column 'Totals\"** "
      ]
    },
    {
      "cell_type": "code",
      "execution_count": null,
      "metadata": {
        "id": "mSACkqykfq6J"
      },
      "outputs": [],
      "source": [
        "# compute automatically cell location where to write \"Total\" header for columns and rows\n",
        "\n",
        "# for columns\n",
        "headers_row = 1 # as the column headers are on the 1st row\n",
        "col_location= str(get_column_letter(sum_col)) + str(headers_row)\n",
        "print(col_location)"
      ]
    },
    {
      "cell_type": "raw",
      "metadata": {
        "id": "Nx76vHBBfq6J"
      },
      "source": [
        "**Totals in row** "
      ]
    },
    {
      "cell_type": "code",
      "execution_count": null,
      "metadata": {
        "id": "Bk6Vw5zdfq6K"
      },
      "outputs": [],
      "source": [
        "# for rows\n",
        "rows_total_row = last_row + 1 # we'll get 20\n",
        "row_location= str(get_column_letter(start_col -1 )) + str(rows_total_row)\n",
        "print(row_location)"
      ]
    },
    {
      "cell_type": "code",
      "execution_count": null,
      "metadata": {
        "id": "W79ppgSMar6d"
      },
      "outputs": [],
      "source": [
        "# write 'Total' at the indicated location\n",
        "\n",
        "# for columns\n",
        "ws[col_location]='Column Total'\n",
        "\n",
        "# for rows\n",
        "ws[row_location]='Row Total'\n",
        "\n",
        "# save into another excel file\n",
        "wb.save('Groceries_1.xlsx')"
      ]
    },
    {
      "cell_type": "code",
      "execution_count": null,
      "metadata": {
        "id": "sKmUH0H4fq6K"
      },
      "outputs": [],
      "source": [
        "# addin totals\n",
        "img = mpimg.imread('images/img_31.png')\n",
        "plt.imshow(img)\n",
        "plt.axis('off')\n",
        "plt.show()"
      ]
    },
    {
      "cell_type": "raw",
      "metadata": {
        "id": "hc4m-SXCfq6L"
      },
      "source": [
        "**Rows totals** "
      ]
    },
    {
      "cell_type": "code",
      "execution_count": null,
      "metadata": {
        "id": "LYonxlm_ao5G"
      },
      "outputs": [],
      "source": [
        "# now compute and write the result of row totals\n",
        "\n",
        "# identify where to write the result of row total\n",
        "first_row = 2\n",
        "sum_row = get_maximum_rows(sheet_object = ws)   # 21\n",
        "start_col = 2\n",
        "end_col = get_maximum_cols(sheet=ws) # 6\n",
        "\n",
        "for row in ws.iter_rows(min_row=sum_row, #20\n",
        "                        max_row=sum_row,  #20\n",
        "                        min_col=start_col, # 2 or B\n",
        "                        max_col=end_col): # 6 or F\n",
        "    for cell in row:\n",
        "        # identify /write the range of the cell to sum up\n",
        "        cell_sum_start = cell.column_letter + str(first_row) # from B2\n",
        "        cell_sum_end = cell.column_letter + str(sum_row -1) # to B21\n",
        "        cell.value = '=SUM({0}:{1})'.format(cell_sum_start, cell_sum_end) # =SUM(B2:B21)\n",
        "        \n",
        "\n",
        "wb.save('Groceries_1.xlsx')"
      ]
    },
    {
      "cell_type": "code",
      "execution_count": null,
      "metadata": {
        "id": "p-XYpOFRfq6M"
      },
      "outputs": [],
      "source": [
        "# computing row totals\n",
        "img = mpimg.imread('images/img_32.png')\n",
        "plt.imshow(img)\n",
        "plt.axis('off')\n",
        "plt.show()"
      ]
    },
    {
      "cell_type": "code",
      "execution_count": null,
      "metadata": {
        "id": "iLpijL9P_W5c"
      },
      "outputs": [],
      "source": [
        "# Get value of the cell containing the formula.\n",
        "for row in ws[\"A1:F21\"]:\n",
        "    print ([x.value for x in row])"
      ]
    },
    {
      "cell_type": "markdown",
      "metadata": {
        "id": "Zm4nPyR6fq6N"
      },
      "source": [
        "## Computation in DF with pandas"
      ]
    },
    {
      "cell_type": "code",
      "execution_count": null,
      "metadata": {
        "id": "HHmbJv5Jn_YU"
      },
      "outputs": [],
      "source": [
        "# Convert Sheet to DataFrame \n",
        "df = pd.DataFrame(ws.values)\n",
        "print(df.shape)\n",
        "df.head(5) # note that there are no headers"
      ]
    },
    {
      "cell_type": "code",
      "execution_count": null,
      "metadata": {
        "id": "ihZqVMKOfq6O"
      },
      "outputs": [],
      "source": [
        "df.tail(2)"
      ]
    },
    {
      "cell_type": "code",
      "execution_count": null,
      "metadata": {
        "id": "8d8UYciC9zBM"
      },
      "outputs": [],
      "source": [
        "# move the 1st row (index=0) to headers\n",
        "\n",
        "print(df.shape)\n",
        "headers = df.iloc[0,:] # copy the row with index 0 and assign it as headers\n",
        "df.columns = headers # indicate \n",
        "df = df.loc[1:] # now the df will start at the row with index 1\n",
        "\n",
        "df.head() # the index start at 1 because of the shift df.loc[1:]"
      ]
    },
    {
      "cell_type": "code",
      "execution_count": null,
      "metadata": {
        "id": "DenpNAfSfq6P"
      },
      "outputs": [],
      "source": [
        "# reset index\n",
        "df.reset_index(inplace = True, drop = True) # to start at 0 \n",
        "\n",
        "print(df.shape)\n",
        "df.head(2)"
      ]
    },
    {
      "cell_type": "code",
      "execution_count": null,
      "metadata": {
        "id": "DuUlt6cFfq6Q"
      },
      "outputs": [],
      "source": [
        "df.tail(4)"
      ]
    },
    {
      "cell_type": "code",
      "execution_count": null,
      "metadata": {
        "id": "zKj8b1C6fq6Q"
      },
      "outputs": [],
      "source": [
        "df.shape"
      ]
    },
    {
      "cell_type": "code",
      "execution_count": null,
      "metadata": {
        "id": "iDifIgKVAPTS"
      },
      "outputs": [],
      "source": [
        "# drop None values\n",
        "\n",
        "# rows => axis=0\n",
        "df.dropna(how='all', axis=0, inplace=True) # # drop all None values from rows\n",
        "\n",
        "# columns => axis =1\n",
        "df.dropna(how='all', axis=1, inplace=True) # drop all None values from columns\n",
        "\n",
        "\n",
        "print(df.shape)\n",
        "df.head()"
      ]
    },
    {
      "cell_type": "code",
      "execution_count": null,
      "metadata": {
        "id": "SLBZgy9Rfq6R"
      },
      "outputs": [],
      "source": [
        "df.tail(4)"
      ]
    },
    {
      "cell_type": "raw",
      "metadata": {
        "id": "e3mQAOvffq6S"
      },
      "source": [
        "Note that cells that contained formula do not have values but the string for formulas computed previously with openpyxl\n",
        "\n",
        "We'll compute them again with pandas to have numerical valuues "
      ]
    },
    {
      "cell_type": "code",
      "execution_count": null,
      "metadata": {
        "id": "caYMRVc0Aw6_"
      },
      "outputs": [],
      "source": [
        "# compute Total Column\n",
        "\n",
        "# select columns to sum with iloc\n",
        "\n",
        "## : from the iloc means that we're selecting all\n",
        "##  from column Orange with index 1 to column Kiwi with index=5\n",
        "\n",
        "# add a new column 'Total' in the dataframe with the computation of the sum of columns [1:5]\n",
        "df['Column Total'] = df.iloc[:, 1:5].sum(axis=1)\n",
        "print(df.shape)\n",
        "df.head()"
      ]
    },
    {
      "cell_type": "code",
      "execution_count": null,
      "metadata": {
        "id": "in_imjTbfq6T"
      },
      "outputs": [],
      "source": [
        "df.tail(4)"
      ]
    },
    {
      "cell_type": "code",
      "execution_count": null,
      "metadata": {
        "id": "KpZeGiuYBuLd"
      },
      "outputs": [],
      "source": [
        "# compute row Total\n",
        "\n",
        "# select the range [18,1:6] with iloc where we want to write the result..\n",
        "## 20 meaning the row index in df...\n",
        "## (but in excel this row index will be 21)\n",
        "\n",
        "# df.iloc[:18,1:6].sum(axis=0) ==> calcultate the sum of the range  [:20,1:6]\n",
        "# :18 meaning everithyn till 19 included\n",
        "df.iloc[19,1:6] = df.iloc[:19,1:6].sum(axis=0) # axis 0 meaning column axis\n",
        "\n",
        "df.tail(6)\n"
      ]
    },
    {
      "cell_type": "code",
      "execution_count": null,
      "metadata": {
        "id": "5ena9esAfq6U"
      },
      "outputs": [],
      "source": [
        "df.shape"
      ]
    },
    {
      "cell_type": "code",
      "source": [
        "# save this df as an excel in to see the difference with Groceries_1\n",
        "df.to_excel(\"Groceries_2_pandas.xlsx\",\n",
        "             sheet_name='pandas') "
      ],
      "metadata": {
        "id": "yuO0QzjtFSmT"
      },
      "execution_count": null,
      "outputs": []
    },
    {
      "cell_type": "markdown",
      "metadata": {
        "id": "RljvABIEmUDi"
      },
      "source": [
        "# 8&nbsp;Formating"
      ]
    },
    {
      "cell_type": "raw",
      "metadata": {
        "id": "5svEf7DKmVwI"
      },
      "source": [
        "For formating we use **xlsxwriter package** "
      ]
    },
    {
      "cell_type": "raw",
      "metadata": {
        "id": "Ay8ckEZgfq6V"
      },
      "source": [
        "Let's imagin we need to a border around the df in the excel\n",
        "\n",
        "First, will need to get the range of our dataframe 'A1:F21'\n",
        "\n",
        "For this, we can use functions that will compute for us the ranges or location"
      ]
    },
    {
      "cell_type": "markdown",
      "metadata": {
        "id": "w_I41BGffq6W"
      },
      "source": [
        "## *Cell location/notation with xlswritter*"
      ]
    },
    {
      "cell_type": "markdown",
      "metadata": {
        "id": "m-BJt9Wwfq6W"
      },
      "source": [
        "### xl_range() function"
      ]
    },
    {
      "cell_type": "raw",
      "metadata": {
        "id": "4k_teK2Kfq6W"
      },
      "source": [
        "xl_range() documentation\n",
        "\n",
        "https://xlsxwriter.readthedocs.io/working_with_cell_notation.html?highlight=xl_range#xl-range"
      ]
    },
    {
      "cell_type": "code",
      "execution_count": null,
      "metadata": {
        "id": "moMDdzfnfq6Z"
      },
      "outputs": [],
      "source": [
        "# Convert zero indexed row and column cell references to a A1:B1 range string\n",
        "\n",
        "xl_range(# upper corner on the right\n",
        "         first_row = 0, # as is zero indexed, in excel indexation is going to +1, so 1\n",
        "         first_col = 0, # in excel will be the column 1 with letter A\n",
        "         # buttom corner on the left\n",
        "         # the limits will add + 1 in excel\n",
        "         last_row = 20, # in excel will be the row 21\n",
        "         last_col= 5) # in excel will be the column 6 ith letter F"
      ]
    },
    {
      "cell_type": "code",
      "execution_count": null,
      "metadata": {
        "id": "hkY5VFRmfq6a"
      },
      "outputs": [],
      "source": [
        "# we obtained the excel range of our df\n",
        "img = mpimg.imread('images/img_33.png')\n",
        "plt.imshow(img)\n",
        "plt.axis('off')\n",
        "plt.show()"
      ]
    },
    {
      "cell_type": "raw",
      "metadata": {
        "id": "erLzx6EYfq6d"
      },
      "source": [
        "The xl_range() function converts zero based row and column cell references to an A1:B1 style range string: "
      ]
    },
    {
      "cell_type": "code",
      "execution_count": null,
      "metadata": {
        "id": "3q7ZBVT9fq6d"
      },
      "outputs": [],
      "source": [
        "print(xl_range(0, 0, 9, 0))  # A1:A10\n",
        "print(xl_range(1, 2, 8, 5)) # C2:F9\n",
        "print(xl_range(0, 0, 20, 5))  # A1:F21\n",
        "print(xl_range(0, 0, 0, 0))  # A1\n",
        "\n",
        "# so you'll need to add + 1 everywhere to get the excel references"
      ]
    },
    {
      "cell_type": "raw",
      "metadata": {
        "id": "ITbALj-nfq6e"
      },
      "source": [
        "If we want to get the dataframe range automatically...."
      ]
    },
    {
      "cell_type": "code",
      "execution_count": null,
      "metadata": {
        "id": "tldxJVJTfq6e"
      },
      "outputs": [],
      "source": [
        "df.tail()"
      ]
    },
    {
      "cell_type": "code",
      "execution_count": null,
      "metadata": {
        "id": "StEU79wtCPxZ"
      },
      "outputs": [],
      "source": [
        "# compute the range of the whole dataframe \n",
        "\n",
        "print('df dimensions: ', df.shape)\n",
        "\n",
        "max_row, max_col = df.shape # we'll get the lengh of df as maw_rows, and nb of col as max_col\n",
        "print('rows: ', max_row)\n",
        "print('columns: ', max_col)"
      ]
    },
    {
      "cell_type": "code",
      "execution_count": null,
      "metadata": {
        "id": "zcgzgMJTfq6g"
      },
      "outputs": [],
      "source": [
        "max_row, max_col = df.shape # we'll get the lengh of df as maw_rows, and nb of col as max_col\n",
        "\n",
        "# compute the cellrange of the df in the excel without doing it manually\n",
        "# don't forget that xl_range always add + 1 !!!\n",
        "\n",
        "df_range = xl_range(\n",
        "                   # upper left corner\n",
        "                    0, # in excel row 1\n",
        "                    0, # in excel column 1\n",
        "    \n",
        "                    # bottom right corner\n",
        "         \n",
        "                    # row of the corner\n",
        "                    last_row = max_row, # 20, but in excel row nb 21, \n",
        "                                # but it's ok, \n",
        "                                # because the headers will be considered as a row in excel\n",
        "                    \n",
        "                    # col of the corner\n",
        "                    # becaus it's starting at index 0, we need to substract -1\n",
        "                    last_col= max_col - 1 ) # 6 - 1 = 5, but in excel col nr 6\n",
        "print(df_range)"
      ]
    },
    {
      "cell_type": "code",
      "execution_count": null,
      "metadata": {
        "id": "qplromW7fq6h"
      },
      "outputs": [],
      "source": [
        "# computing df range\n",
        "img = mpimg.imread('images/img_34.png')\n",
        "plt.imshow(img)\n",
        "plt.axis('off')\n",
        "plt.show()"
      ]
    },
    {
      "cell_type": "markdown",
      "metadata": {
        "id": "cpNL2tj2fq6i"
      },
      "source": [
        "### xl_rowcol_to_cell() coordinates of a cell"
      ]
    },
    {
      "cell_type": "raw",
      "metadata": {
        "id": "VE36GiAtfq6i"
      },
      "source": [
        "https://xlsxwriter.readthedocs.io/working_with_cell_notation.html?highlight=xl_rowcol_to_cell#xl-rowcol-to-cell"
      ]
    },
    {
      "cell_type": "code",
      "execution_count": null,
      "metadata": {
        "id": "Aic6opGOfq6i"
      },
      "outputs": [],
      "source": [
        "# function converts a zero indexed row and column cell values to an A1 style string\n",
        "#it helps to get automatically a the coordinates of a cell\n",
        "\n",
        "xl_rowcol_to_cell(0,0) # as is zero indexed, in excel indexation is going to be row 1, col 1 (A)"
      ]
    },
    {
      "cell_type": "markdown",
      "metadata": {
        "id": "sAYWIueufq6s"
      },
      "source": [
        "### xl_col_to_name()"
      ]
    },
    {
      "cell_type": "code",
      "execution_count": null,
      "metadata": {
        "id": "JjY5CKoMfq6s"
      },
      "outputs": [],
      "source": [
        "# Convert a zero indexed column cell reference to a string\n",
        "xl_col_to_name(50)"
      ]
    },
    {
      "cell_type": "code",
      "execution_count": null,
      "metadata": {
        "id": "m9KSa_SZFZjs"
      },
      "outputs": [],
      "source": [
        "# start indices of the df\n",
        "start = xl_rowcol_to_cell(0,0) # the coordinates of the upper corner, where df begins \n",
        "start_col = xl_col_to_name(0) # column letter where df begins \n",
        "start_row = 0  # the row where df begins\n",
        "\n",
        "print('the coordinates where the df begins...')\n",
        "print(\"starting point:\", start, \n",
        "      \"starts at row:\", start_row,      \n",
        "      \"starts at col:\", start_col)"
      ]
    },
    {
      "cell_type": "code",
      "execution_count": null,
      "metadata": {
        "id": "fw9xgRswFtPL"
      },
      "outputs": [],
      "source": [
        "# end indices of df\n",
        "end_point = xl_rowcol_to_cell(max_row, max_col-1) # check why max_row not -1, but max_col -1\n",
        "end_col = xl_col_to_name(max_col-1)\n",
        "end_row = max_row + 1\n",
        "\n",
        "print('the coordinates where the df ends...')\n",
        "print(\"end point:\", end_point, \n",
        "      \"end_row:\", end_row,      \n",
        "      \"end col:\", end_col)"
      ]
    },
    {
      "cell_type": "raw",
      "metadata": {
        "id": "W4gkJZF_fq6u"
      },
      "source": [
        "Now that we re-wrote the df with the total calcultations..."
      ]
    },
    {
      "cell_type": "raw",
      "metadata": {
        "id": "9NJxrCYCfq6v"
      },
      "source": [
        "1. create an excel object\n",
        "2. copy the df into the new excel object\n",
        "3. download back the excel object (the workbook and workheet) in order to manipulate it further\n",
        "4. resize the worksheet zoom to 60%"
      ]
    },
    {
      "cell_type": "code",
      "execution_count": null,
      "metadata": {
        "id": "KYwU6bP3Fx2w"
      },
      "outputs": [],
      "source": [
        "# write df into excel\n",
        " \n",
        "# 1. create an excel object\n",
        "# writing DataFrame objects into excel sheets.\n",
        "writer = pd.ExcelWriter('Groceries_Formated.xlsx', # the name of the excel file\n",
        "                        engine='xlsxwriter',\n",
        "                        datetime_format='d mmm yy', # we'll use it if we have dates in the excel\n",
        "                        date_format='d mmm yy')\n",
        "\n",
        "# 2. write the df in the excel object\n",
        "df.to_excel(writer, # excel object\n",
        "            sheet_name= 'Groceries' , # sheet name\n",
        "            index=False, # add or not indexes in the excel\n",
        "            startrow=0, # starting what row to copy\n",
        "            startcol=0) # starting what column to copy\n"
      ]
    },
    {
      "cell_type": "code",
      "execution_count": null,
      "metadata": {
        "id": "J0TUncImfq6v"
      },
      "outputs": [],
      "source": [
        "# check the existing files in our working directory\n",
        "# and we have the new excel Groceries_Formated created\n",
        "# os.listdir()"
      ]
    },
    {
      "cell_type": "code",
      "execution_count": null,
      "metadata": {
        "id": "_2GWlB0wfq6w"
      },
      "outputs": [],
      "source": [
        "# 3. download the excel object in the workbook in order to manipulate its sheets\n",
        "workbook = writer.book\n",
        "worksheet = writer.sheets['Groceries']\n",
        "\n",
        "# 4.resize the sheet by adjusting the zoom\n",
        "worksheet.set_zoom(60)\n"
      ]
    },
    {
      "cell_type": "code",
      "source": [
        "# Uncomment if you want to save modification and close worbook\n",
        "\n",
        "'''\n",
        "# save the excel object\n",
        "writer.save()\n",
        "\n",
        "# if you want to open the excel file you have to close the workbook first with workbook.close()\n",
        "\n",
        "workbook.close()  # close the workbook\n",
        "\n",
        "'''"
      ],
      "metadata": {
        "id": "KZJp5hCTxfOS"
      },
      "execution_count": null,
      "outputs": []
    },
    {
      "cell_type": "code",
      "execution_count": null,
      "metadata": {
        "id": "wGO0vTnPfq6x"
      },
      "outputs": [],
      "source": [
        "# cour new excel\n",
        "img = mpimg.imread('images/img_35.png')\n",
        "plt.imshow(img)\n",
        "plt.axis('off')\n",
        "plt.show()"
      ]
    },
    {
      "cell_type": "markdown",
      "metadata": {
        "id": "V52hreN3fq6x"
      },
      "source": [
        "## *Headers formatting*"
      ]
    },
    {
      "cell_type": "code",
      "execution_count": null,
      "metadata": {
        "id": "mEEXFjnHHNdy"
      },
      "outputs": [],
      "source": [
        "# iterate through df columns with enumerate\n",
        "for col_num, value in enumerate(df.columns):\n",
        "    print(col_num, value)"
      ]
    },
    {
      "cell_type": "code",
      "execution_count": null,
      "metadata": {
        "id": "0lFv7HJjHAQ9"
      },
      "outputs": [],
      "source": [
        "# Add a header format.\n",
        "\n",
        "# define what format you want to apply\n",
        "header_format = workbook.add_format({\n",
        "    'bold': True,\n",
        "    'text_wrap': True,\n",
        "    'valign': 'top',\n",
        "    'fg_color': '#0033cc', # bright blue \n",
        "    'border': 1})\n",
        "\n",
        "# Write the column headers with the defined format.\n",
        "for col_num, value in enumerate(df.columns.values):\n",
        "    worksheet.write(0, # on what row\n",
        "                    col_num, # which column\n",
        "                    value, # value to write\n",
        "                    header_format) # format to apply\n",
        "\n"
      ]
    },
    {
      "cell_type": "raw",
      "metadata": {
        "id": "deZCODWyfq6y"
      },
      "source": [
        "# colors code\n",
        "https://www.w3schools.com/colors/colors_picker.asp?colorhex=ff0000"
      ]
    },
    {
      "cell_type": "markdown",
      "source": [],
      "metadata": {
        "id": "bLMaQCG64kyk"
      }
    },
    {
      "cell_type": "code",
      "source": [
        "# uncomment if you want to save and close workbook\n",
        "\n",
        "'''\n",
        "# save the excel object\n",
        "writer.save()\n",
        "\n",
        "# if you want to open the excel file you have to close the workbook first with workbook.close()\n",
        "workbook.close()  # close the workbook\n",
        "\n",
        "'''\n"
      ],
      "metadata": {
        "id": "UzICsOD94laL"
      },
      "execution_count": null,
      "outputs": []
    },
    {
      "cell_type": "code",
      "execution_count": null,
      "metadata": {
        "id": "5iLsxWxHfq6z"
      },
      "outputs": [],
      "source": [
        "# format of headers : bold, bright blue, border 1, text_wrap, vertical alignment 'Top'\n",
        "img = mpimg.imread('images/img_36.png')\n",
        "plt.imshow(img)\n",
        "plt.axis('off')\n",
        "plt.show()"
      ]
    },
    {
      "cell_type": "markdown",
      "metadata": {
        "id": "LyNn9Ra4LqQA"
      },
      "source": [
        "# Charts"
      ]
    },
    {
      "cell_type": "raw",
      "metadata": {
        "id": "jWw2F0-5fq60"
      },
      "source": [
        "chart tutorial :\n",
        "https://www.tutorialspoint.com/python_xlsxwriter/python_xlsxwriter_adding_charts.htm\n",
        "https://readthedocs.org/projects/pandas-xlsxwriter-charts/downloads/pdf/latest/"
      ]
    },
    {
      "cell_type": "code",
      "execution_count": null,
      "metadata": {
        "id": "eHSpuM-Gfq60"
      },
      "outputs": [],
      "source": [
        "# Create a stacked chart sub-type.\n",
        "\n",
        "stacked_chart = workbook.add_chart({'type': 'column', # what type of chart we want\n",
        "                                    'subtype': 'stacked'}) # what subtype of chart we want"
      ]
    },
    {
      "cell_type": "raw",
      "metadata": {
        "id": "FpAT6LG2fq61"
      },
      "source": [
        "The supported chart types are:\n",
        "\n",
        "\n",
        "\n",
        "*   **area**: Creates an Area (filled line) style chart.\n",
        "*   **bar**: Creates a Bar style (transposed histogram) chart.\n",
        "*   **column**: Creates a column style (histogram) chart.\n",
        "*   **line**: Creates a Line style chart.\n",
        "*   **pie**: Creates a Pie style chart.\n",
        "*   **doughnut**: Creates a Doughnut style chart.\n",
        "*   **scatter**: Creates a Scatter style chart.\n",
        "*   **stock**: Creates a Stock style chart.\n",
        "*   **radar**: Creates a Radar style chart."
      ]
    },
    {
      "cell_type": "raw",
      "metadata": {
        "id": "1lo81d22fq62"
      },
      "source": [
        "The available subtypes are:\n",
        "\n",
        "*   **area** : stacked, percent_stacked\n",
        "\n",
        "*   **bar**:  stacked, percent_stacked\n",
        "\n",
        "*   **column** :  stacked, percent_stacked\n",
        "\n",
        "*   **scatter** : straight_with_markers, straight, smooth_with_markers, smooth\n",
        "\n",
        "*   **line** : stacked, percent_stacked\n",
        "\n",
        "*   **radar** :  with_markers,  filled"
      ]
    },
    {
      "cell_type": "code",
      "execution_count": null,
      "metadata": {
        "id": "dzMHuKd2fq62"
      },
      "outputs": [],
      "source": [
        "# stacked chart\n",
        "img = mpimg.imread('images/img_37.png')\n",
        "plt.imshow(img)\n",
        "plt.axis('off')\n",
        "plt.show()"
      ]
    },
    {
      "cell_type": "code",
      "execution_count": null,
      "metadata": {
        "id": "GVvJ2ZonIwUg"
      },
      "outputs": [],
      "source": [
        "# Add a data series to a chart.\n",
        "# format the series of the chart\n",
        "\n",
        "# Configure the first series.  == > Oranges\n",
        "stacked_chart.add_series({\n",
        "    # name of series\n",
        "    'name':  '= Groceries!$B$1', # oranges\n",
        "    # categories of the series (here will be the names)\n",
        "    'categories': '=Groceries!$A$2:$A$19',\n",
        "    # values of the serie categories\n",
        "    'values':     '=Groceries!$B$2:$B$19',\n",
        "    # format x axis labels\n",
        "    'data_labels': {'value': True,\n",
        "                    'font': {'bold': False,\n",
        "                             'size': 10,\n",
        "                             'color': 'black',\n",
        "                             'rotation': -30}},\n",
        "    # set the colors for the categorries\n",
        "    'fill': {'color': 'lime', 'transparency': 20}\n",
        "})\n",
        "\n",
        "\n"
      ]
    },
    {
      "cell_type": "code",
      "execution_count": null,
      "metadata": {
        "id": "kGfWAVNEfq63"
      },
      "outputs": [],
      "source": [
        "# building a serie\n",
        "img = mpimg.imread('images/img_38.png')\n",
        "plt.imshow(img)\n",
        "plt.axis('off')\n",
        "plt.show()"
      ]
    },
    {
      "cell_type": "code",
      "execution_count": null,
      "metadata": {
        "id": "z9PrE5Wkfq64"
      },
      "outputs": [],
      "source": [
        "# Configure second series.  ==> Bananas\n",
        "stacked_chart.add_series({\n",
        "    'name':       '=Groceries!$C$1', # banana\n",
        "    'categories': '=Groceries!$A$2:$A$19',\n",
        "    'values':     '=Groceries!$C$2:$C$19',\n",
        "    'data_labels': {'value': False,\n",
        "                    'font': {'bold': False,\n",
        "                             'size': 10,\n",
        "                             'color': 'black',\n",
        "                             'rotation': -30}},\n",
        "    'fill': {'color': 'red', 'transparency': 20}\n",
        "})\n",
        "\n",
        "# Configure 3rd series. == > Apples\n",
        "stacked_chart.add_series({\n",
        "    'name':       '=Groceries!$D$1', # apples\n",
        "    'categories': '=Groceries!$A$2:$A$19',\n",
        "    'values':     '=Groceries!$D$2:$D$19',\n",
        "    'data_labels': {'value': True,\n",
        "                    'font': {'bold': False,\n",
        "                             'size': 10,\n",
        "                             'color': 'black',\n",
        "                             'rotation': -30}},\n",
        "    'fill': {'color': 'blue', 'transparency': 20}\n",
        "})\n",
        "\n",
        "\n",
        "\n",
        "\n",
        "# Configure 4th series. ==> Kiwi\n",
        "stacked_chart.add_series({\n",
        "    'name':       '=Groceries!$E$1', # kiwi\n",
        "    'categories': '=Groceries!$A$2:$A$19',\n",
        "    'values':     '=Groceries!$E$2:$E$19',\n",
        "    'data_labels': {'value': True,\n",
        "                    'font': {'bold': False,\n",
        "                             'size': 10,\n",
        "                             'color': 'black',\n",
        "                             'rotation': -30}},\n",
        "    'fill': {'color': 'green', 'transparency': 20}\n",
        "})\n"
      ]
    },
    {
      "cell_type": "code",
      "source": [
        "# save and close\n",
        "\n",
        "'''\n",
        "\n",
        "writer.save()\n",
        "workbook.close()\n",
        "\n",
        "'''"
      ],
      "metadata": {
        "id": "h3tCIwaR5-dk"
      },
      "execution_count": null,
      "outputs": []
    },
    {
      "cell_type": "code",
      "execution_count": null,
      "metadata": {
        "id": "C0QG5hczfq69"
      },
      "outputs": [],
      "source": [
        "# Add a chart title and the axis labels.\n",
        "stacked_chart.set_title ({'name': 'Stacked Chart'}) # chart title\n",
        "stacked_chart.set_y_axis({'name': 'Fruits'}) # label for axis Y"
      ]
    },
    {
      "cell_type": "code",
      "source": [
        "# save and close\n",
        "\n",
        "'''\n",
        "\n",
        "writer.save()\n",
        "workbook.close()\n",
        "\n",
        "'''"
      ],
      "metadata": {
        "id": "KMg2BrsW6F-5"
      },
      "execution_count": null,
      "outputs": []
    },
    {
      "cell_type": "code",
      "execution_count": null,
      "metadata": {
        "id": "-Fx0hGEKfq6_"
      },
      "outputs": [],
      "source": [
        "# Set an Excel chart style.\n",
        "stacked_chart.set_style(12) # An index representing the chart style.(from 1 to 48 styles)\n",
        "\n",
        "\n",
        "# format x axis\n",
        "stacked_chart.set_x_axis({\n",
        "    'name': 'Fruits per Name',\n",
        "    'name_font': {'size': 12, 'bold': True},\n",
        "    'num_font':  {'italic': True },\n",
        "})\n",
        "\n",
        "# set legend position\n",
        "stacked_chart.set_legend({'position': 'bottom'})\n",
        "\n",
        "\n",
        "# Insert the chart into the worksheet at cell H2.\n",
        "worksheet.insert_chart('H2', # location were to insert chart\n",
        "                       stacked_chart)\n",
        "\n",
        "# ...when you have a 0 as an input , it means that there were no erros"
      ]
    },
    {
      "cell_type": "code",
      "execution_count": null,
      "metadata": {
        "id": "yFWpjw7KNNss"
      },
      "outputs": [],
      "source": [
        "# final output\n",
        "img = mpimg.imread('images/img_39.png')\n",
        "plt.imshow(img)\n",
        "plt.axis('off')\n",
        "plt.show()"
      ]
    },
    {
      "cell_type": "code",
      "execution_count": null,
      "metadata": {
        "id": "yt-jL9g_M8UY"
      },
      "outputs": [],
      "source": [
        "# save and close\n",
        "writer.save()\n",
        "workbook.close()"
      ]
    },
    {
      "cell_type": "markdown",
      "source": [],
      "metadata": {
        "id": "NkeOdL_Iq_Fc"
      }
    }
  ],
  "metadata": {
    "colab": {
      "provenance": [],
      "toc_visible": true,
      "include_colab_link": true
    },
    "kernelspec": {
      "display_name": "Python 3 (ipykernel)",
      "language": "python",
      "name": "python3"
    },
    "language_info": {
      "codemirror_mode": {
        "name": "ipython",
        "version": 3
      },
      "file_extension": ".py",
      "mimetype": "text/x-python",
      "name": "python",
      "nbconvert_exporter": "python",
      "pygments_lexer": "ipython3",
      "version": "3.9.7"
    }
  },
  "nbformat": 4,
  "nbformat_minor": 0
}